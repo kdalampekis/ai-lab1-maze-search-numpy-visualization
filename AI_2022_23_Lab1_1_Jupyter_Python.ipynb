{
  "nbformat": 4,
  "nbformat_minor": 0,
  "metadata": {
    "colab": {
      "provenance": []
    },
    "kernelspec": {
      "name": "python3",
      "display_name": "Python 3"
    },
    "language_info": {
      "name": "python"
    }
  },
  "cells": [
    {
      "cell_type": "markdown",
      "source": [
        "⚠️\n",
        "Επισημαίνεται ότι η σχεδίαση και το περιεχόμενο του notebook αποτελούν αντικείμενο πνευματικής ιδιοκτησίας."
      ],
      "metadata": {
        "id": "O0oN_taRz1wn"
      }
    },
    {
      "cell_type": "markdown",
      "source": [
        "#Python\n",
        "![Σχήμα 1](https://www.python.org/static/img/python-logo.png) \n",
        "\n",
        "H Python είναι μια υψηλού επιπέδου γλώσσα προγραμματισμού η οποία είναι:\n",
        "* **Ανοιχτού κώδικα**: Δημιουργός: Guido van Rossum\n",
        "* **Δωρεάν διάθεση**: Η Python διατίθεται δωρεάν, ακόμη και για εμπορικούς σκοπούς.\n",
        "* **Διερμηνεύσιμη**: Η Python είναι διερμηνεύσιμη, δεν έχει μεταγλωττιστή (compiler) αλλά μόνο διερμηνευτή (interpreter). Συχνά οι low-level συναρτήσεις είναι σε C/C++ και οι βιβλιοθήκες προσφέρουν \"wrappers\" σε Python Scripting Language.\n",
        "* **Διαδικαστική, συναρτησιακή και αντικειμενοστραφής γλώσσα**: \n",
        "Ως scripting language είναι μια διαδικαστική γλώσσα. Ωστόσο είναι επίσης μια πλήρως αντικειμενοστραφής γλώσσα αλλά και μια πλήρως συναρτησιακή γλώσσα.\n",
        "* **Εκφραστική**: Χρειάζονται πολύ λιγότερες γραμμές κώδικα από ότι σε άλλες γλώσσες. Σε κάποιες περιπτώσεις είναι κοντά στη φυσική γλώσσα, για παράδειγμα το 'Hello World' είναι print(\"Hello World\").\n",
        "* **Εύκολη στην εκμάθηση**: Ιδανική για αρχάριους στον προγραμματισμό. Εύκολη στην ανάγνωση, χωρίς καθόλου ειδικούς χαρακτήρες στο τέλος των εντολών.\n",
        "* **Οικονομία έκφρασης**: Η εμβέλεια των μεταβλητών είναι πιο απλή, δεν χρειάζονται να δηλωθούν οι τύποι των μεταβλητών στη μνήμη. Ο τύπος τους καθορίζεται κατά το runtime.\n",
        "* **Ευέλικτο και δυναμικό σύστημα τύπων**: Οι τιμές μπορεί να αλλάζουν τύπο κατά τη διάρκεια ενός προγράμματος\n",
        "* **Εύκολη πρόσβαση σε προγράμματα υλοποιημένα σε άλλες γλώσσες**\n",
        "* **Τύποι δεδομένων υψηλού επιπέδου**: π.χ. σύνολα απεικονίσεις ..,\n",
        "* **Ευέλικτη**: εφαρμογή σε πολλούς τομείς\n",
        "* **Ισχυρή**: Για μικρής και μεγάλης κλίμακας εφαρμογές\n",
        "* **Βιβλιοθήκες**: Για μια σχετικά “νέα” γλώσσα διαθέτει ένα πολύ μεγάλο εύρος βιβλιοθηκών. Ειδικά στην Τεχνητή Νοημοσύνη και στη Μηχανική Μάθηση θεωρείται η πιο πλούσια, σε βιβλιοθήκες, γλώσσα. \n",
        "![](https://d6vdma9166ldh.cloudfront.net/media/images/1560168396942-Image-5.jpg)\n"
      ],
      "metadata": {
        "id": "ycXrYXZk6pdw"
      }
    },
    {
      "cell_type": "code",
      "source": [],
      "metadata": {
        "id": "fzDlqhJOlnZY"
      },
      "execution_count": null,
      "outputs": []
    },
    {
      "cell_type": "markdown",
      "source": [
        "### Χρήσιμοι σύνδεσμοι για εγκατάσταση Python\n",
        "\n",
        "* [Οδηγός εγκατάστασης Python σε Windows](https://realpython.com/installing-python/#how-to-install-python-on-windows)\n",
        "\n",
        "* [Οδηγός εγκατάστασης Python σε macOS](https://realpython.com/installing-python/#how-to-install-python-on-macos)\n",
        "\n",
        "* [Οδηγός εγκατάστασης Python σε linux ](https://realpython.com/installing-python/#how-to-install-python-on-linux)\n",
        "\n",
        "\n",
        "[Online Python Interpreters](https://realpython.com/installing-python/#online-python-interpreters)"
      ],
      "metadata": {
        "id": "Yvltdc6tYOXj"
      }
    },
    {
      "cell_type": "markdown",
      "source": [
        "\n",
        "\n",
        "---\n",
        "\n"
      ],
      "metadata": {
        "id": "hohKqzzeCgnY"
      }
    },
    {
      "cell_type": "markdown",
      "source": [
        "#### [Google Colab](https://colab.research.google.com/) \n",
        "\n",
        "Στο Colab ή \"Colaboratory\" μπορείτε να γράφετε και να εκτελείτε Python στο πρόγραμμα περιήγησής σας (μέσω Jupyter), το οποίο αρχικά υποστήριζε , έχοντας δωρεάν πρόσβαση σε συγκεκριμένους πόρους (αλλά ικανοποιητικούς για τις ανάγκες του εργαστηρίου) της Google καθώς και δυνατότητα διαμοιρασμού αρχείων με άλλους χρήστες.\n",
        "\n",
        " 💡 `Θα χρειαστεί να έχετε ενεργό gmail `\n"
      ],
      "metadata": {
        "id": "NU26HMIdaXjO"
      }
    },
    {
      "cell_type": "markdown",
      "source": [
        "# Jupyter ![](https://res.cloudinary.com/canonical/image/fetch/f_auto,q_auto,fl_sanitize,c_fill,w_200,h_200/https://api.charmhub.io/api/v1/media/download/charm_RswXkJwVSTxU29GnlSeSjzRSsPzhOGsh_icon_fde574967418afe93bb032808563e40e63606adb805113065acfa35010332164.png)\n",
        "\n",
        "Το Jupyter είναι ένας προηγμένος επεξεργαστής κειμένου.\n",
        "Τα αρχεία, τα οποία έχουν κατάληξη .ipynb δημιουργούνται μέσα στο περιβάλλον του Jupiter και περιγράφονται με μορφή JSON.  Η κατάληξη .ipynb προέκυψε από το **IPy**thon **N**ote**B**ook, όπου το IPython είναι το κέλυφος εντολών για διαδραστικό υπολογισμό στη γλώσσα προγραμματισμού Python. \n",
        "\n",
        "\n",
        "Αυτό που διαφοροποιεί ένα Jupiter από έναν απλό επεξεργαστή κειμένου είναι οι *πυρήνες* και τα *κελιά* που αυτό διαθέτει.\n",
        "\n",
        "* Ένας **πυρήνας** είναι μια «υπολογιστική μηχανή» που εκτελεί τον κώδικα που περιέχεται σε ένα κελί κώδικα.\n",
        "\n",
        "* Ένα **κελί** είναι ένα πλαίσιο κείμενου που πρέπει να εμφανίζεται στο notebook ή ένα πλαίσιο κώδικα που θα εκτελεστεί από τον πυρήνα του notebook. \n",
        "\n",
        "\n",
        "Tα κελιά αποτελούν το σώμα ενός notebook. Υπάρχουν δύο κύριοι τύποι κελιών:\n",
        "\n",
        "\n",
        "\n",
        "\n",
        "\n",
        "\n",
        "\n"
      ],
      "metadata": {
        "id": "Cu5wtDNFxyDx"
      }
    },
    {
      "cell_type": "markdown",
      "source": [
        "1. **Κελί κώδικα**: περιέχει κώδικα που πρέπει να εκτελεστεί στον πυρήνα. Όταν \n",
        "εκτελείται ο κώδικας, η έξοδος του εμφανίζεται κάτω από το κελί κώδικα που τον δημιούργησε. \n",
        "\n",
        "```\n",
        "⭐ Για να εκτελέσουμε το κώδικα του ακόλουθου κελιού, κάνουμε κλικ στο κουμπί εκτέλεσης μπροστά στο κελί ή πληκτρολογούμε Cmd/Ctrl + Enter. \n",
        "\n",
        "> Αν πληκτρολογήσετε Shift+Enter θα εκτελέστει το κελί και θα μετακινηθεί η εστίαση στο επόμενο κελί.\n",
        "\n",
        "> Αν πληκτρολογήστε Alt+Enter θα εκτελέστει το κελί και να εισαγάγετε ένα νέο κελί κώδικα αμέσως κάτω από αυτό. \n",
        "\n",
        "> Υπάρχουν πρόσθετες επιλογές για την εκτέλεση ορισμένων ή όλων των κελιών στο μενού \"Χρόνος εκτέλεσης\".\n",
        "```\n"
      ],
      "metadata": {
        "id": "GR417ZqWjiZL"
      }
    },
    {
      "cell_type": "code",
      "source": [
        "print(\"Hello World!\")"
      ],
      "metadata": {
        "colab": {
          "base_uri": "https://localhost:8080/"
        },
        "id": "-G4XrBz1Bcqo",
        "outputId": "c9af9376-7449-4388-f5b3-2fbf82d32ad6"
      },
      "execution_count": null,
      "outputs": [
        {
          "output_type": "stream",
          "name": "stdout",
          "text": [
            "Hello World!\n"
          ]
        }
      ]
    },
    {
      "cell_type": "markdown",
      "source": [
        "\n",
        "2.   **Κελί κειμένου**: περιέχει κείμενο που έχει μορφοποιηθεί κατάλληλα και εμφανίζει την έξοδο του στη θέση του όταν εκτελείται το κελί κειμένου.\n",
        "\n",
        "```\n",
        "💡 Για να πειραματιστείτε με τη μορφοποίηση κειμένου, κάντε διπλό κλικ στο ακόλουθο κελί κειμένου\n",
        "```\n",
        "\n",
        "\n"
      ],
      "metadata": {
        "id": "MbBoZ69nBtRW"
      }
    },
    {
      "cell_type": "markdown",
      "source": [
        "  \n",
        "##### This text is treated as an heading 5 because it has five hashes at the beginning\n",
        "\n",
        "*italics* and _italics_\n",
        "\n",
        "**bold**\n",
        "\n",
        "~~strikethrough~~\n",
        "\n",
        "`monospace`\n",
        "\n",
        "No indent\n",
        "> One level of indentation\n",
        ">>Two levels of indentation\n",
        "\n",
        "An ordered list:\n",
        "1. One\n",
        "2. Two\n",
        "3. Three\n",
        "\n",
        "An unordered list:\n",
        "* One\n",
        "* Two\n",
        "* Three\n",
        "\n",
        "A linked URL using references:\n",
        "[ECE](https://www.ece.ntua.gr/gr)\n",
        "\n",
        "An inline image: ![](https://www.ntua.gr/images/logos/logo.jpg)\n",
        "\n",
        "\n",
        "Equations:\n",
        "\n",
        "$y=x^2$\n",
        "\n",
        "$e^{i\\pi} + 1 = 0$\n",
        "\n",
        "$e^x=\\sum_{i=0}^\\infty \\frac{1}{i!}x^i$\n",
        "\n",
        "$\\frac{n!}{k!(n-k)!} = {n \\choose k}$\n",
        "\n",
        "$A_{m,n} =\n",
        " \\begin{pmatrix}\n",
        "  a_{1,1} & a_{1,2} & \\cdots & a_{1,n} \\\\\n",
        "  a_{2,1} & a_{2,2} & \\cdots & a_{2,n} \\\\\n",
        "  \\vdots  & \\vdots  & \\ddots & \\vdots  \\\\\n",
        "  a_{m,1} & a_{m,2} & \\cdots & a_{m,n}\n",
        " \\end{pmatrix}$\n",
        "\n",
        "Tables:\n",
        "```\n",
        "First column name | Second column name\n",
        "--- | ---\n",
        "Row 1, Col 1 | Row 1, Col 2\n",
        "Row 2, Col 1 | Row 2, Col 2\n",
        "```\n",
        "\n",
        "Horizontal rule done with three dashes :\n",
        "\n",
        "---   \n",
        "\n",
        "\n"
      ],
      "metadata": {
        "id": "8fv3vSHNFgox"
      }
    },
    {
      "cell_type": "markdown",
      "source": [
        "#### Runtime\n",
        "Η ροή εκτέλεσης ενός notebook είναι από πάνω προς τα κάτω. \n",
        "\n",
        "Κάθε κελί που εκτελείται λαμβάνει έναν αύξοντα αριθμό σειράς εκτέλεσης. Όταν κάνουμε αλλαγές σε ένα προηγούμενο κελί, η σειρά εκτέλεσης αλλάζει.\n",
        "\n",
        "Από το μενού επιλέγοντας το Runtime, μπορούμε να κάνουμε τα εξής:\n",
        "\n",
        "* Επανεκκίνηση: επανεκκινεί τον πυρήνα, καθαρίζοντας έτσι όλες τις μεταβλητές κ.λπ. που ορίστηκαν.\n",
        "\n",
        "* Επανεκκίνηση και εκκαθάριση εξόδου: όπως παραπάνω, αλλά θα διαγράψει επίσης την έξοδο που εμφανίζεται κάτω από τα κελιά του κώδικά σας. \n",
        "\n",
        "* Επανεκκίνηση & Εκτέλεση όλων: το ίδιο όπως παραπάνω, αλλά θα τρέξει επίσης όλα τα κελιά σας με τη σειρά από το πρώτο έως το τελευταίο.\n",
        "\n",
        "  > Εάν ο πυρήνας σας έχει κολλήσει ποτέ σε έναν υπολογισμό και θέλετε να τον σταματήσετε, μπορείτε να επιλέξετε την επιλογή Διακοπή.\n",
        "\n",
        "  > Επιλέγοντας το Change runtime type μπορείτε να αλλάξετε το είδος του hardware που θα εκτελεστεί ο κώδικάς του notebook."
      ],
      "metadata": {
        "id": "RYOUkNJCJO7U"
      }
    },
    {
      "cell_type": "markdown",
      "source": [
        "---\n"
      ],
      "metadata": {
        "id": "2tYMRkqhPySn"
      }
    },
    {
      "cell_type": "markdown",
      "source": [
        "# Basic Python Syntax\n",
        "\n",
        "Η σύνταξη της Python είναι σαφής, συνοπτική και εστιασμένη στην αναγνωσιμότητα. Σε αυτήν την ενότητα θα δούμε βασικά χαρακτηριστικά σύνταξης της Python. \n",
        "\n",
        "“Readability counts.”\n",
        "\n",
        "— [The Zen of Python](https://realpython.com/python-pep8/#why-we-need-pep-8)\n",
        "\n"
      ],
      "metadata": {
        "id": "mHLcvCXiP4Bt"
      }
    },
    {
      "cell_type": "markdown",
      "source": [
        "\n",
        "\n",
        "---\n",
        "\n",
        "\n",
        "##### ⚙️`Εκτελέστε τα ακόλουθα κελιά κώδικα και παρατηρήστε την έξοδο αυτών των κελιών `"
      ],
      "metadata": {
        "id": "E7JAtnt1w1oz"
      }
    },
    {
      "cell_type": "markdown",
      "source": [
        "##### Σχολιασμός κώδικα"
      ],
      "metadata": {
        "id": "_jgKSrtUQty2"
      }
    },
    {
      "cell_type": "code",
      "source": [
        "# This is a comment on its own line\n",
        "var = \"Hello, World!\"  # This is an inline comment"
      ],
      "metadata": {
        "id": "1ApdTHdYJPK1"
      },
      "execution_count": null,
      "outputs": []
    },
    {
      "cell_type": "markdown",
      "source": [
        "### Eνσωματωμένοι τύποι δεδομένων στην Python"
      ],
      "metadata": {
        "id": "aCAskWKpaaYH"
      }
    },
    {
      "cell_type": "markdown",
      "source": [
        "##### Ακέραιοι\n",
        "`Στην Python 3 ουσιαστικά δεν υπάρχει όριο στο πόσο μεγάλη μπορεί να είναι μια ακέραια τιμή.`"
      ],
      "metadata": {
        "id": "qUDFr6o8Wo2L"
      }
    },
    {
      "cell_type": "code",
      "source": [
        "print(111111111111111111111111111111111111111111111111111111111111111111111111111111111111+3)"
      ],
      "metadata": {
        "colab": {
          "base_uri": "https://localhost:8080/"
        },
        "id": "PsgOKMCCWpTR",
        "outputId": "f1668d9d-ab69-48c0-c39f-427f7316875f"
      },
      "execution_count": null,
      "outputs": [
        {
          "output_type": "stream",
          "name": "stdout",
          "text": [
            "111111111111111111111111111111111111111111111111111111111111111111111111111111111114\n"
          ]
        }
      ]
    },
    {
      "cell_type": "code",
      "source": [
        "# Αν προστεθεί μπροστά από μια ακέραια τιμή η συμβολοσειρά 0b (0B- Binary) ή  \n",
        "# 0o (0O -Octal) ή 0x (0X - Hexadecimal)γίνεται μετατροπή του αριθμού στο \n",
        "# αντίστοιχο σύστημα αρίθμησης.\n",
        "\n",
        "print(0b10)\n",
        "print (type(0b10))\n",
        "\n",
        "print(0o10)\n",
        "print (type(0o10))\n",
        "\n",
        "print(0x10)\n",
        "print (type(0x10))"
      ],
      "metadata": {
        "colab": {
          "base_uri": "https://localhost:8080/"
        },
        "id": "29VORhweX-Gx",
        "outputId": "93b77719-7a2a-4637-9fd7-9d06061a05dd"
      },
      "execution_count": null,
      "outputs": [
        {
          "output_type": "stream",
          "name": "stdout",
          "text": [
            "2\n",
            "<class 'int'>\n",
            "8\n",
            "<class 'int'>\n",
            "16\n",
            "<class 'int'>\n"
          ]
        }
      ]
    },
    {
      "cell_type": "markdown",
      "source": [
        "##### Αριθμοί κινητής υποδιαστολής\n",
        "\n",
        "`Η Python αναπαριστά αυτούς τους αριθμούς με τιμές «διπλής ακρίβειας» 64 bit, σύμφωνα με το πρότυπο IEEE 754. Σε αυτήν την περίπτωση, η μέγιστη τιμή που μπορεί να έχει ένας αριθμός κινητής υποδιαστολής είναι περίπου 1,8 ⨉ 10308. Η Python θα υποδείξει έναν αριθμό μεγαλύτερο από αυτόν με τη συμβολοσειρά inf:`"
      ],
      "metadata": {
        "id": "FNuKyRVxZMRf"
      }
    },
    {
      "cell_type": "code",
      "source": [
        "print(11.13)\n",
        "\n",
        "print(type(11.13))\n",
        "\n",
        "print(11.)\n",
        "print(.13)\n",
        "\n",
        "print(11e13000000)\n",
        "\n",
        "print(type(11e-13))"
      ],
      "metadata": {
        "colab": {
          "base_uri": "https://localhost:8080/"
        },
        "id": "zEXs0yWoZVtu",
        "outputId": "ac907bdd-c829-4746-bbbb-7cc20c0af122"
      },
      "execution_count": null,
      "outputs": [
        {
          "output_type": "stream",
          "name": "stdout",
          "text": [
            "11.13\n",
            "<class 'float'>\n",
            "11.0\n",
            "0.13\n",
            "inf\n",
            "<class 'float'>\n"
          ]
        }
      ]
    },
    {
      "cell_type": "markdown",
      "source": [
        "#### Μιγαδικοί αριθμοί"
      ],
      "metadata": {
        "id": "D3C-_IfgyKws"
      }
    },
    {
      "cell_type": "code",
      "source": [
        "1+3j\n",
        "type(1+3j)\n"
      ],
      "metadata": {
        "colab": {
          "base_uri": "https://localhost:8080/"
        },
        "id": "ugECl5mkyKoi",
        "outputId": "5b3daa89-e994-4b18-b940-c2677e040245"
      },
      "execution_count": null,
      "outputs": [
        {
          "output_type": "execute_result",
          "data": {
            "text/plain": [
              "complex"
            ]
          },
          "metadata": {},
          "execution_count": 29
        }
      ]
    },
    {
      "cell_type": "markdown",
      "source": [
        "#### Μεταβλητές"
      ],
      "metadata": {
        "id": "ORZNoMEUQ4us"
      }
    },
    {
      "cell_type": "code",
      "source": [
        "num = 1\n",
        "print (num)\n",
        "print ('num=', num)\n",
        "\n",
        "print('What is your name?')\n",
        "name=input()\n",
        "\n",
        "txt='My name is'\n",
        "print(txt,' ', name)"
      ],
      "metadata": {
        "colab": {
          "base_uri": "https://localhost:8080/"
        },
        "id": "Wl7zlE6sQ47z",
        "outputId": "a8868edc-37b9-4f31-be05-be4bf9a54017"
      },
      "execution_count": null,
      "outputs": [
        {
          "output_type": "stream",
          "name": "stdout",
          "text": [
            "1\n",
            "num= 1\n",
            "What is your name?\n",
            "d\n",
            "My name is   d\n"
          ]
        }
      ]
    },
    {
      "cell_type": "markdown",
      "source": [
        "####Strings: \n",
        "` \" \" ή ' ' `\n",
        "\n",
        "Οι συμβολοσειρές είναι ακολουθίες χαρακτήρων.\n",
        "Ο τύπος συμβολοσειράς στην Python ονομάζεται str. \n",
        "Μία συμβολοσειρά οριοθετείται χρησιμοποιώντας είτε μονά είτε διπλά εισαγωγικά. \n",
        "\n",
        "Όλοι οι χαρακτήρες μεταξύ του οριοθέτη ανοίγματος και του αντίστοιχου οριοθέτη κλεισίματος αποτελούν μέρος της συμβολοσειράς:"
      ],
      "metadata": {
        "id": "vqQFF7qayKiB"
      }
    },
    {
      "cell_type": "code",
      "source": [
        "print(\"I am a string.\")\n",
        "type(\"I am a string.\")"
      ],
      "metadata": {
        "colab": {
          "base_uri": "https://localhost:8080/"
        },
        "id": "kwype2FtyKa9",
        "outputId": "11e4f677-15dc-4d8e-f6ba-8ad97f37d20a"
      },
      "execution_count": null,
      "outputs": [
        {
          "output_type": "stream",
          "name": "stdout",
          "text": [
            "I am a string.\n"
          ]
        },
        {
          "output_type": "execute_result",
          "data": {
            "text/plain": [
              "str"
            ]
          },
          "metadata": {},
          "execution_count": 31
        }
      ]
    },
    {
      "cell_type": "markdown",
      "source": [
        "Μια συμβολοσειρά στην Python μπορεί να περιέχει όσους χαρακτήρες θέλετε. Το μόνο όριο είναι οι πόροι μνήμης του μηχανήματος σας. Μια συμβολοσειρά μπορεί επίσης να είναι κενή:"
      ],
      "metadata": {
        "id": "ix7TIX09yKU2"
      }
    },
    {
      "cell_type": "code",
      "source": [
        "null_string=''\n",
        "print(null_string)"
      ],
      "metadata": {
        "colab": {
          "base_uri": "https://localhost:8080/"
        },
        "id": "WUP3AMSuyKNs",
        "outputId": "51acc739-9a40-49c1-c816-9120dbcec3a2"
      },
      "execution_count": null,
      "outputs": [
        {
          "output_type": "stream",
          "name": "stdout",
          "text": [
            "\n"
          ]
        }
      ]
    },
    {
      "cell_type": "markdown",
      "source": [
        "Εάν θέλετε να συμπεριλάβετε οποιονδήποτε τύπο χαρακτήρα εισαγωγικού στη συμβολοσειρά, ο απλούστερος τρόπος είναι να οριοθετήσετε τη συμβολοσειρά με τον άλλο τύπο. \n",
        "\n",
        "Εάν μια συμβολοσειρά πρέπει να περιέχει ένα μονό εισαγωγικό, οριοθετήστε το με διπλά εισαγωγικά και αντίστροφα.\n",
        "\n",
        "Αλλιώς μπορείτε να χρησιμοποιήσετε το \\ και έπειτα το εισαγωγικό που θέλετε ώστε να να αναγκαστεί η Python να καταστείλει τη συνήθη ειδική ερμηνεία ενός χαρακτήρα σε μια συμβολοσειρά."
      ],
      "metadata": {
        "id": "T51Ah5sMyKG6"
      }
    },
    {
      "cell_type": "code",
      "source": [
        "print(\"This string contains a single quote (') character.\")\n",
        "print('This string contains a double quote (\") character.')\n",
        "\n",
        "print('This string contains a single quote (\\') character.')\n",
        "print(\"This string contains a single quote (\\\") character.\")"
      ],
      "metadata": {
        "colab": {
          "base_uri": "https://localhost:8080/"
        },
        "id": "M8Myg8YCyJ-U",
        "outputId": "6b934a42-183d-4d44-b05e-be427546d2fd"
      },
      "execution_count": null,
      "outputs": [
        {
          "output_type": "stream",
          "name": "stdout",
          "text": [
            "This string contains a single quote (') character.\n",
            "This string contains a double quote (\") character.\n",
            "This string contains a single quote (') character.\n",
            "This string contains a single quote (\") character.\n"
          ]
        }
      ]
    },
    {
      "cell_type": "markdown",
      "source": [
        "💡  Θυμηθείτε τους ASCII χαρακτήρες CR και TAB για να κατανοήσετε το ακόλουθο κελί κώδικα"
      ],
      "metadata": {
        "id": "EkUlDVU9yJ15"
      }
    },
    {
      "cell_type": "code",
      "source": [
        "print(\"a\\tb\")\n",
        "print(\"a\\nb\")"
      ],
      "metadata": {
        "colab": {
          "base_uri": "https://localhost:8080/"
        },
        "id": "kBFrc_0iyJn9",
        "outputId": "879721d4-8cca-4dd7-d6cb-b1ca4d6df78b"
      },
      "execution_count": null,
      "outputs": [
        {
          "output_type": "stream",
          "name": "stdout",
          "text": [
            "a\tb\n",
            "a\n",
            "b\n"
          ]
        }
      ]
    },
    {
      "cell_type": "code",
      "metadata": {
        "ExecuteTime": {
          "end_time": "2020-09-03T08:37:33.202812Z",
          "start_time": "2020-09-03T08:37:33.085Z"
        },
        "id": "4_m1iKtEwvVW",
        "colab": {
          "base_uri": "https://localhost:8080/"
        },
        "outputId": "8c54e790-6a68-4e1e-a3fc-a103048b1364"
      },
      "source": [
        "s = 'A'\n",
        "s += 'bc'\n",
        "s += 'dE'\n",
        "print(s)\n",
        "print(s.lower())\n"
      ],
      "execution_count": null,
      "outputs": [
        {
          "output_type": "stream",
          "name": "stdout",
          "text": [
            "AbcdE\n",
            "abcde\n"
          ]
        }
      ]
    },
    {
      "cell_type": "code",
      "metadata": {
        "ExecuteTime": {
          "end_time": "2020-09-03T08:37:33.204922Z",
          "start_time": "2020-09-03T08:37:33.088Z"
        },
        "scrolled": false,
        "id": "8JRUv63-wvVb",
        "colab": {
          "base_uri": "https://localhost:8080/"
        },
        "outputId": "68e57a76-df23-49b8-a398-547be347b75a"
      },
      "source": [
        "s.strip().split('d')"
      ],
      "execution_count": null,
      "outputs": [
        {
          "output_type": "execute_result",
          "data": {
            "text/plain": [
              "['Abc', 'E']"
            ]
          },
          "metadata": {},
          "execution_count": 36
        }
      ]
    },
    {
      "cell_type": "code",
      "source": [
        "print('AB' in s)"
      ],
      "metadata": {
        "id": "RhFmkVB46lg5",
        "colab": {
          "base_uri": "https://localhost:8080/"
        },
        "outputId": "e5b50569-033a-4d4f-c71d-a5cd2168b318"
      },
      "execution_count": null,
      "outputs": [
        {
          "output_type": "stream",
          "name": "stdout",
          "text": [
            "False\n"
          ]
        }
      ]
    },
    {
      "cell_type": "code",
      "metadata": {
        "ExecuteTime": {
          "end_time": "2020-09-03T08:37:33.205877Z",
          "start_time": "2020-09-03T08:37:33.090Z"
        },
        "scrolled": false,
        "id": "7S9ZUh5iwvVe",
        "colab": {
          "base_uri": "https://localhost:8080/",
          "height": 35
        },
        "outputId": "20f45848-1111-4811-bac4-74c56caa8a3b"
      },
      "source": [
        "s[::2]"
      ],
      "execution_count": null,
      "outputs": [
        {
          "output_type": "execute_result",
          "data": {
            "text/plain": [
              "'AcE'"
            ],
            "application/vnd.google.colaboratory.intrinsic+json": {
              "type": "string"
            }
          },
          "metadata": {},
          "execution_count": 38
        }
      ]
    },
    {
      "cell_type": "code",
      "metadata": {
        "ExecuteTime": {
          "end_time": "2020-09-03T08:37:33.206958Z",
          "start_time": "2020-09-03T08:37:33.091Z"
        },
        "scrolled": false,
        "id": "FHvxOkhcwvVg",
        "colab": {
          "base_uri": "https://localhost:8080/",
          "height": 35
        },
        "outputId": "a30b6464-0119-4128-9dbc-d738a6b8769b"
      },
      "source": [
        "s[3:]"
      ],
      "execution_count": null,
      "outputs": [
        {
          "output_type": "execute_result",
          "data": {
            "text/plain": [
              "'dE'"
            ],
            "application/vnd.google.colaboratory.intrinsic+json": {
              "type": "string"
            }
          },
          "metadata": {},
          "execution_count": 39
        }
      ]
    },
    {
      "cell_type": "code",
      "metadata": {
        "ExecuteTime": {
          "end_time": "2020-09-03T08:37:33.207928Z",
          "start_time": "2020-09-03T08:37:33.093Z"
        },
        "id": "ZxMQUOZhwvVi",
        "colab": {
          "base_uri": "https://localhost:8080/",
          "height": 35
        },
        "outputId": "d438ab92-e833-4bd6-cce9-08e46871ecae"
      },
      "source": [
        "' '.join(s)"
      ],
      "execution_count": null,
      "outputs": [
        {
          "output_type": "execute_result",
          "data": {
            "text/plain": [
              "'A b c d E'"
            ],
            "application/vnd.google.colaboratory.intrinsic+json": {
              "type": "string"
            }
          },
          "metadata": {},
          "execution_count": 40
        }
      ]
    },
    {
      "cell_type": "markdown",
      "metadata": {
        "id": "Cz8lO8D_6lg4"
      },
      "source": [
        "##### The `in` keyword\n"
      ]
    },
    {
      "cell_type": "code",
      "metadata": {
        "ExecuteTime": {
          "end_time": "2020-09-03T08:37:33.218403Z",
          "start_time": "2020-09-03T08:37:33.109Z"
        },
        "scrolled": true,
        "id": "0RKa7aHN6lg4",
        "colab": {
          "base_uri": "https://localhost:8080/"
        },
        "outputId": "2282005e-d91b-486f-95d9-b63d82ad58ea"
      },
      "source": [
        "print('A' in s)\n"
      ],
      "execution_count": null,
      "outputs": [
        {
          "output_type": "stream",
          "name": "stdout",
          "text": [
            "True\n"
          ]
        }
      ]
    },
    {
      "cell_type": "markdown",
      "source": [
        "#### Boolean Type\n",
        "\n",
        "Η Python 3 παρέχει έναν τύπο δεδομένων Boolean. Τα αντικείμενα τύπου Boole μπορεί να έχουν μία από τις δύο τιμές, True ή False\n"
      ],
      "metadata": {
        "id": "XcNsAQPpyJcc"
      }
    },
    {
      "cell_type": "code",
      "source": [
        " type(True)\n",
        " type(False)"
      ],
      "metadata": {
        "colab": {
          "base_uri": "https://localhost:8080/"
        },
        "id": "zK5yPB6B2Qmj",
        "outputId": "f03688b4-5a4d-4181-9755-65d45fba5cb4"
      },
      "execution_count": null,
      "outputs": [
        {
          "output_type": "execute_result",
          "data": {
            "text/plain": [
              "bool"
            ]
          },
          "metadata": {},
          "execution_count": 42
        }
      ]
    },
    {
      "cell_type": "code",
      "source": [
        "test = 13 > 11\n",
        "test"
      ],
      "metadata": {
        "colab": {
          "base_uri": "https://localhost:8080/"
        },
        "id": "Q0ZuP_UD3rAY",
        "outputId": "3f724369-b745-4ed8-cbf9-3d6fea023c9c"
      },
      "execution_count": null,
      "outputs": [
        {
          "output_type": "execute_result",
          "data": {
            "text/plain": [
              "True"
            ]
          },
          "metadata": {},
          "execution_count": 43
        }
      ]
    },
    {
      "cell_type": "code",
      "source": [
        "13.3 < 11.1 and 11.13 < 13.11"
      ],
      "metadata": {
        "colab": {
          "base_uri": "https://localhost:8080/"
        },
        "id": "21jimrgs3oZ8",
        "outputId": "a1dae800-cca4-42c4-828f-3441cf673316"
      },
      "execution_count": null,
      "outputs": [
        {
          "output_type": "execute_result",
          "data": {
            "text/plain": [
              "False"
            ]
          },
          "metadata": {},
          "execution_count": 44
        }
      ]
    },
    {
      "cell_type": "code",
      "source": [
        "False == (not True)"
      ],
      "metadata": {
        "colab": {
          "base_uri": "https://localhost:8080/"
        },
        "id": "92QFzwuc3nr-",
        "outputId": "21ee1f07-a3d8-43de-9c7e-0827f9382aa7"
      },
      "execution_count": null,
      "outputs": [
        {
          "output_type": "execute_result",
          "data": {
            "text/plain": [
              "True"
            ]
          },
          "metadata": {},
          "execution_count": 45
        }
      ]
    },
    {
      "cell_type": "markdown",
      "source": [
        "#### Μετατροπή τύπου (casting)"
      ],
      "metadata": {
        "id": "nsgvPKBd4QyI"
      }
    },
    {
      "cell_type": "code",
      "metadata": {
        "ExecuteTime": {
          "end_time": "2020-09-03T08:37:33.052877Z",
          "start_time": "2020-09-03T08:37:33.049545Z"
        },
        "scrolled": true,
        "id": "5tKsnkcRwvTb",
        "colab": {
          "base_uri": "https://localhost:8080/"
        },
        "outputId": "da4aad78-e1c2-456b-e088-296c39ebaa83"
      },
      "source": [
        "a = 1\n",
        "type(a)"
      ],
      "execution_count": null,
      "outputs": [
        {
          "output_type": "execute_result",
          "data": {
            "text/plain": [
              "int"
            ]
          },
          "metadata": {},
          "execution_count": 46
        }
      ]
    },
    {
      "cell_type": "code",
      "metadata": {
        "ExecuteTime": {
          "end_time": "2020-09-03T08:37:33.058601Z",
          "start_time": "2020-09-03T08:37:33.055357Z"
        },
        "scrolled": true,
        "id": "uEbBe6pgwvTe",
        "colab": {
          "base_uri": "https://localhost:8080/"
        },
        "outputId": "98271cdd-aede-4750-8052-9b915c7b6b9a"
      },
      "source": [
        "b = float(a)\n",
        "type(b)"
      ],
      "execution_count": null,
      "outputs": [
        {
          "output_type": "execute_result",
          "data": {
            "text/plain": [
              "float"
            ]
          },
          "metadata": {},
          "execution_count": 47
        }
      ]
    },
    {
      "cell_type": "code",
      "metadata": {
        "ExecuteTime": {
          "end_time": "2020-09-03T08:37:33.063441Z",
          "start_time": "2020-09-03T08:37:33.060201Z"
        },
        "scrolled": true,
        "id": "J167PgD3wvTh",
        "colab": {
          "base_uri": "https://localhost:8080/",
          "height": 35
        },
        "outputId": "e9dc5c62-05ff-49c3-a186-5e0107fb3c34"
      },
      "source": [
        "str(b)"
      ],
      "execution_count": null,
      "outputs": [
        {
          "output_type": "execute_result",
          "data": {
            "text/plain": [
              "'1.0'"
            ],
            "application/vnd.google.colaboratory.intrinsic+json": {
              "type": "string"
            }
          },
          "metadata": {},
          "execution_count": 48
        }
      ]
    },
    {
      "cell_type": "markdown",
      "source": [
        "#### Πράξεις"
      ],
      "metadata": {
        "id": "3O0Nz8U7Sruq"
      }
    },
    {
      "cell_type": "code",
      "source": [
        "11+13 "
      ],
      "metadata": {
        "colab": {
          "base_uri": "https://localhost:8080/"
        },
        "id": "Udklcnp-RyC5",
        "outputId": "a224d9f0-4a37-4fc3-debc-8164edd3c0eb"
      },
      "execution_count": null,
      "outputs": [
        {
          "output_type": "execute_result",
          "data": {
            "text/plain": [
              "24"
            ]
          },
          "metadata": {},
          "execution_count": 49
        }
      ]
    },
    {
      "cell_type": "code",
      "source": [
        "11-13\n"
      ],
      "metadata": {
        "colab": {
          "base_uri": "https://localhost:8080/"
        },
        "id": "fBx7TghdSUx4",
        "outputId": "b59d08fc-01aa-4de3-ee7f-ba7811fc9e98"
      },
      "execution_count": null,
      "outputs": [
        {
          "output_type": "execute_result",
          "data": {
            "text/plain": [
              "-2"
            ]
          },
          "metadata": {},
          "execution_count": 50
        }
      ]
    },
    {
      "cell_type": "code",
      "source": [
        "11*13"
      ],
      "metadata": {
        "colab": {
          "base_uri": "https://localhost:8080/"
        },
        "id": "OzhI8VdNSYI6",
        "outputId": "d30d4eb3-9605-4570-8192-71cd514d0ba6"
      },
      "execution_count": null,
      "outputs": [
        {
          "output_type": "execute_result",
          "data": {
            "text/plain": [
              "143"
            ]
          },
          "metadata": {},
          "execution_count": 51
        }
      ]
    },
    {
      "cell_type": "code",
      "source": [
        "11/3"
      ],
      "metadata": {
        "colab": {
          "base_uri": "https://localhost:8080/"
        },
        "id": "Ukg88lSSSa5A",
        "outputId": "e47f3ca2-2ebd-4c0e-9b54-86307b570388"
      },
      "execution_count": null,
      "outputs": [
        {
          "output_type": "execute_result",
          "data": {
            "text/plain": [
              "3.6666666666666665"
            ]
          },
          "metadata": {},
          "execution_count": 52
        }
      ]
    },
    {
      "cell_type": "code",
      "source": [
        "11//3 # ακέραια διαίρεση"
      ],
      "metadata": {
        "colab": {
          "base_uri": "https://localhost:8080/"
        },
        "id": "1aUXkbEhSc9B",
        "outputId": "66022fce-6b3d-447f-9cc9-d999e98bda18"
      },
      "execution_count": null,
      "outputs": [
        {
          "output_type": "execute_result",
          "data": {
            "text/plain": [
              "3"
            ]
          },
          "metadata": {},
          "execution_count": 53
        }
      ]
    },
    {
      "cell_type": "code",
      "source": [
        "11%3 # modulus -υ"
      ],
      "metadata": {
        "colab": {
          "base_uri": "https://localhost:8080/"
        },
        "id": "Jw1TZBvMShuH",
        "outputId": "4b3ab134-284a-4923-9e04-13896fbfa8e0"
      },
      "execution_count": null,
      "outputs": [
        {
          "output_type": "execute_result",
          "data": {
            "text/plain": [
              "2"
            ]
          },
          "metadata": {},
          "execution_count": 54
        }
      ]
    },
    {
      "cell_type": "code",
      "source": [
        "11**3 "
      ],
      "metadata": {
        "colab": {
          "base_uri": "https://localhost:8080/"
        },
        "id": "6eEnrIIcTGM1",
        "outputId": "af732353-65c4-4bd2-aade-9f9f20f9b91d"
      },
      "execution_count": null,
      "outputs": [
        {
          "output_type": "execute_result",
          "data": {
            "text/plain": [
              "1331"
            ]
          },
          "metadata": {},
          "execution_count": 55
        }
      ]
    },
    {
      "cell_type": "markdown",
      "source": [
        "## Containers \n",
        "Η Python παρέχει διαφορετικούς τύπους container, στα οποία μπορούν να αποθηκευτούν συλλογές αντικειμένων. \n",
        "Στις συλλογές της python συγκαταλέγονται και oι  πλειάδες (tuple), οι λίστες (lists), τα λεξικά (dict) και τα σύνολα (sets)."
      ],
      "metadata": {
        "id": "a5_THq8D4iko"
      }
    },
    {
      "cell_type": "markdown",
      "source": [
        "Τα πάντα στην Python είναι αντικείμενα και είτε μπορεί να είναι μεταβλητά (mutable) ή αμετάβλητα (immutable).\n",
        "\n",
        "Ένα μεταβλητό αντικείμενο μπορεί να αλλάξει την κατάσταση ή τα περιεχόμενά του ενώ ένα αμετάβλητο αντικείμενο δεν μπορεί.\n",
        "\n",
        "* **Μεταβλητά αντικείμενα**: : λίστα, dict, set\n",
        "* **Αμετάβλητα αντικείμενα** int, float, complex, string, tuple, frozen set (αμετάβλητη έκδοση του set)"
      ],
      "metadata": {
        "id": "b262NvxK9cv3"
      }
    },
    {
      "cell_type": "markdown",
      "metadata": {
        "id": "e4c1uL25wvTo"
      },
      "source": [
        "### Tuples \n",
        "`( ): παρενθέσεις`"
      ]
    },
    {
      "cell_type": "code",
      "metadata": {
        "ExecuteTime": {
          "end_time": "2020-09-03T08:37:33.077998Z",
          "start_time": "2020-09-03T08:37:33.074604Z"
        },
        "scrolled": false,
        "id": "pXrgqCtswvTp",
        "colab": {
          "base_uri": "https://localhost:8080/"
        },
        "outputId": "b89ad203-f4b0-449c-d74c-4ae298292a61"
      },
      "source": [
        "tt = ('truc', 3.14, \"truc\")\n",
        "tt"
      ],
      "execution_count": null,
      "outputs": [
        {
          "output_type": "execute_result",
          "data": {
            "text/plain": [
              "('truc', 3.14, 'truc')"
            ]
          },
          "metadata": {},
          "execution_count": 56
        }
      ]
    },
    {
      "cell_type": "code",
      "metadata": {
        "ExecuteTime": {
          "end_time": "2020-09-03T08:37:33.082347Z",
          "start_time": "2020-09-03T08:37:33.079565Z"
        },
        "scrolled": false,
        "id": "FUT9QYllwvTs",
        "colab": {
          "base_uri": "https://localhost:8080/"
        },
        "outputId": "ff25955f-9d46-4068-c278-b9e2bf2facef"
      },
      "source": [
        "tt[1]"
      ],
      "execution_count": null,
      "outputs": [
        {
          "output_type": "execute_result",
          "data": {
            "text/plain": [
              "3.14"
            ]
          },
          "metadata": {},
          "execution_count": 57
        }
      ]
    },
    {
      "cell_type": "code",
      "source": [],
      "metadata": {
        "id": "1S1ckbzCKZlV"
      },
      "execution_count": null,
      "outputs": []
    },
    {
      "cell_type": "code",
      "metadata": {
        "ExecuteTime": {
          "end_time": "2020-09-03T08:37:33.163893Z",
          "start_time": "2020-09-03T08:37:33.083714Z"
        },
        "id": "4NqjUdWewvTw",
        "colab": {
          "base_uri": "https://localhost:8080/",
          "height": 166
        },
        "outputId": "c603e9fb-dc5f-43f9-dc0e-02f7c7ee420a"
      },
      "source": [
        "tt[0] = 1  # You can't change a tuple, we say that it's *immutable*"
      ],
      "execution_count": null,
      "outputs": [
        {
          "output_type": "error",
          "ename": "TypeError",
          "evalue": "ignored",
          "traceback": [
            "\u001b[0;31m---------------------------------------------------------------------------\u001b[0m",
            "\u001b[0;31mTypeError\u001b[0m                                 Traceback (most recent call last)",
            "\u001b[0;32m<ipython-input-59-b443cbab9b98>\u001b[0m in \u001b[0;36m<module>\u001b[0;34m\u001b[0m\n\u001b[0;32m----> 1\u001b[0;31m \u001b[0mtt\u001b[0m\u001b[0;34m[\u001b[0m\u001b[0;36m0\u001b[0m\u001b[0;34m]\u001b[0m \u001b[0;34m=\u001b[0m \u001b[0;36m1\u001b[0m  \u001b[0;31m# You can't change a tuple, we say that it's *immutable*\u001b[0m\u001b[0;34m\u001b[0m\u001b[0;34m\u001b[0m\u001b[0m\n\u001b[0m",
            "\u001b[0;31mTypeError\u001b[0m: 'tuple' object does not support item assignment"
          ]
        }
      ]
    },
    {
      "cell_type": "markdown",
      "metadata": {
        "id": "8SpKBLTVwvT0"
      },
      "source": [
        "Μπορούμε να δηλώσουμε μια πλειάδα με τους ακόλουθους 3  τρόπους"
      ]
    },
    {
      "cell_type": "code",
      "metadata": {
        "ExecuteTime": {
          "end_time": "2020-09-03T08:37:33.170611Z",
          "start_time": "2020-09-03T08:37:33.022Z"
        },
        "id": "gWlSjHFrwvT1",
        "colab": {
          "base_uri": "https://localhost:8080/"
        },
        "outputId": "9247cbc1-2dad-46dd-f6fc-abfa1bcb4c1a"
      },
      "source": [
        "# Method 1\n",
        "tuple([1, 2, 3])"
      ],
      "execution_count": null,
      "outputs": [
        {
          "output_type": "execute_result",
          "data": {
            "text/plain": [
              "(1, 2, 3)"
            ]
          },
          "metadata": {},
          "execution_count": 60
        }
      ]
    },
    {
      "cell_type": "code",
      "metadata": {
        "ExecuteTime": {
          "end_time": "2020-09-03T08:37:33.171702Z",
          "start_time": "2020-09-03T08:37:33.024Z"
        },
        "scrolled": true,
        "id": "K339Ys5IwvT4",
        "colab": {
          "base_uri": "https://localhost:8080/"
        },
        "outputId": "c1658f38-775f-4a3c-fb78-2440bed25435"
      },
      "source": [
        "# Method 2\n",
        "1, 2, 3"
      ],
      "execution_count": null,
      "outputs": [
        {
          "output_type": "execute_result",
          "data": {
            "text/plain": [
              "(1, 2, 3)"
            ]
          },
          "metadata": {},
          "execution_count": 61
        }
      ]
    },
    {
      "cell_type": "code",
      "metadata": {
        "ExecuteTime": {
          "end_time": "2020-09-03T08:37:33.172726Z",
          "start_time": "2020-09-03T08:37:33.026Z"
        },
        "scrolled": true,
        "id": "ykjGE-lPwvT7",
        "colab": {
          "base_uri": "https://localhost:8080/"
        },
        "outputId": "1f6143c2-5c62-4f73-864d-63e5eb5b3024"
      },
      "source": [
        "# Method 3\n",
        "(1, 2, 3)"
      ],
      "execution_count": null,
      "outputs": [
        {
          "output_type": "execute_result",
          "data": {
            "text/plain": [
              "(1, 2, 3)"
            ]
          },
          "metadata": {},
          "execution_count": 62
        }
      ]
    },
    {
      "cell_type": "markdown",
      "metadata": {
        "id": "W483qUzWwvUE"
      },
      "source": [
        "### Lists\n",
        "\n",
        "`[ ] - αγκύλες`\n",
        "\n",
        "Μια λίστα είναι μια ταξινομημένη συλλογή αντικειμένων. \n",
        "\n",
        "Αυτά τα αντικείμενα μπορεί να έχουν διαφορετικούς τύπους. Για παράδειγμα:"
      ]
    },
    {
      "cell_type": "code",
      "metadata": {
        "ExecuteTime": {
          "end_time": "2020-09-03T08:37:33.175917Z",
          "start_time": "2020-09-03T08:37:33.034Z"
        },
        "id": "xpLeXTDDwvUE"
      },
      "source": [
        "colors = ['red', 'blue', 'green', 'black', 'white']"
      ],
      "execution_count": null,
      "outputs": []
    },
    {
      "cell_type": "code",
      "metadata": {
        "ExecuteTime": {
          "end_time": "2020-09-03T08:37:33.176957Z",
          "start_time": "2020-09-03T08:37:33.036Z"
        },
        "scrolled": false,
        "id": "0yA3gzvhwvUH",
        "colab": {
          "base_uri": "https://localhost:8080/"
        },
        "outputId": "b9cf5ecc-789d-4d48-ea7f-18fd835534ff"
      },
      "source": [
        "type(colors)"
      ],
      "execution_count": null,
      "outputs": [
        {
          "output_type": "execute_result",
          "data": {
            "text/plain": [
              "list"
            ]
          },
          "metadata": {},
          "execution_count": 64
        }
      ]
    },
    {
      "cell_type": "markdown",
      "metadata": {
        "id": "Ez3ja_WxwvUJ"
      },
      "source": [
        "**Indexing:** πρόσβαση σε μεμονομένα αντικείμενα που περιέχονται στη λίστα"
      ]
    },
    {
      "cell_type": "code",
      "metadata": {
        "ExecuteTime": {
          "end_time": "2020-09-03T08:37:33.177983Z",
          "start_time": "2020-09-03T08:37:33.038Z"
        },
        "id": "CdIvL4HIwvUJ",
        "colab": {
          "base_uri": "https://localhost:8080/",
          "height": 35
        },
        "outputId": "af5400a9-c82b-4166-b149-12572d9ade98"
      },
      "source": [
        "colors[2]"
      ],
      "execution_count": null,
      "outputs": [
        {
          "output_type": "execute_result",
          "data": {
            "text/plain": [
              "'green'"
            ],
            "application/vnd.google.colaboratory.intrinsic+json": {
              "type": "string"
            }
          },
          "metadata": {},
          "execution_count": 65
        }
      ]
    },
    {
      "cell_type": "code",
      "metadata": {
        "ExecuteTime": {
          "end_time": "2020-09-03T08:37:33.179090Z",
          "start_time": "2020-09-03T08:37:33.040Z"
        },
        "id": "OMbA6DDywvUL",
        "colab": {
          "base_uri": "https://localhost:8080/"
        },
        "outputId": "e451e10a-9a34-407f-e2d8-400320ab33db"
      },
      "source": [
        "colors[2] = 3.14\n",
        "colors"
      ],
      "execution_count": null,
      "outputs": [
        {
          "output_type": "execute_result",
          "data": {
            "text/plain": [
              "['red', 'blue', 3.14, 'black', 'white']"
            ]
          },
          "metadata": {},
          "execution_count": 66
        }
      ]
    },
    {
      "cell_type": "markdown",
      "metadata": {
        "id": "LdRO-wE9wvUO"
      },
      "source": [
        "**Προσοχή:** \n",
        "\n",
        "Η ευρετηρίαση (Indexing) **ξεκινά από το 0 (όπως στη C)**, όχι από το 1 (όπως στο Fortran ή στο Matlab) για οποιοδήποτε επαναληπτικό αντικείμενο στην Python. \n",
        "\n",
        "Μπορούμε να μετρήσουμε από το τέλος του αντικειμένου με αρνητικούς δείκτες"
      ]
    },
    {
      "cell_type": "code",
      "metadata": {
        "ExecuteTime": {
          "end_time": "2020-09-03T08:37:33.180017Z",
          "start_time": "2020-09-03T08:37:33.042Z"
        },
        "scrolled": true,
        "id": "vf9k4BS-wvUO",
        "colab": {
          "base_uri": "https://localhost:8080/",
          "height": 35
        },
        "outputId": "3b29355c-a37f-4961-816e-e6d49c10515a"
      },
      "source": [
        "colors[-2]"
      ],
      "execution_count": null,
      "outputs": [
        {
          "output_type": "execute_result",
          "data": {
            "text/plain": [
              "'black'"
            ],
            "application/vnd.google.colaboratory.intrinsic+json": {
              "type": "string"
            }
          },
          "metadata": {},
          "execution_count": 67
        }
      ]
    },
    {
      "cell_type": "code",
      "metadata": {
        "ExecuteTime": {
          "end_time": "2020-09-03T08:37:33.181088Z",
          "start_time": "2020-09-03T08:37:33.044Z"
        },
        "scrolled": true,
        "id": "BGfoSnxgwvUR",
        "colab": {
          "base_uri": "https://localhost:8080/",
          "height": 166
        },
        "outputId": "d799b35f-4dfc-4e74-92c0-5368b767c41a"
      },
      "source": [
        "colors[10]  # εκτός indexing"
      ],
      "execution_count": null,
      "outputs": [
        {
          "output_type": "error",
          "ename": "IndexError",
          "evalue": "ignored",
          "traceback": [
            "\u001b[0;31m---------------------------------------------------------------------------\u001b[0m",
            "\u001b[0;31mIndexError\u001b[0m                                Traceback (most recent call last)",
            "\u001b[0;32m<ipython-input-69-59f75b715b9b>\u001b[0m in \u001b[0;36m<module>\u001b[0;34m\u001b[0m\n\u001b[0;32m----> 1\u001b[0;31m \u001b[0mcolors\u001b[0m\u001b[0;34m[\u001b[0m\u001b[0;36m10\u001b[0m\u001b[0;34m]\u001b[0m  \u001b[0;31m# εκτός indexing\u001b[0m\u001b[0;34m\u001b[0m\u001b[0;34m\u001b[0m\u001b[0m\n\u001b[0m",
            "\u001b[0;31mIndexError\u001b[0m: list index out of range"
          ]
        }
      ]
    },
    {
      "cell_type": "code",
      "metadata": {
        "ExecuteTime": {
          "end_time": "2020-09-03T08:37:33.182052Z",
          "start_time": "2020-09-03T08:37:33.046Z"
        },
        "id": "_HkJAlHEwvUT",
        "colab": {
          "base_uri": "https://localhost:8080/"
        },
        "outputId": "5211c665-0ad8-4850-fc5f-aaae7778e735"
      },
      "source": [
        "colors"
      ],
      "execution_count": null,
      "outputs": [
        {
          "output_type": "execute_result",
          "data": {
            "text/plain": [
              "['red', 'blue', 3.14, 'black', 'white']"
            ]
          },
          "metadata": {},
          "execution_count": 70
        }
      ]
    },
    {
      "cell_type": "code",
      "metadata": {
        "ExecuteTime": {
          "end_time": "2020-09-03T08:37:33.183087Z",
          "start_time": "2020-09-03T08:37:33.048Z"
        },
        "id": "E2uhP2qtwvUV",
        "colab": {
          "base_uri": "https://localhost:8080/"
        },
        "outputId": "6e611f16-7134-4d89-9669-beac3ce7d982"
      },
      "source": [
        "tt"
      ],
      "execution_count": null,
      "outputs": [
        {
          "output_type": "execute_result",
          "data": {
            "text/plain": [
              "('truc', 3.14, 'truc')"
            ]
          },
          "metadata": {},
          "execution_count": 71
        }
      ]
    },
    {
      "cell_type": "code",
      "metadata": {
        "ExecuteTime": {
          "end_time": "2020-09-03T08:37:33.184188Z",
          "start_time": "2020-09-03T08:37:33.050Z"
        },
        "id": "aks9dTS9wvUY",
        "colab": {
          "base_uri": "https://localhost:8080/"
        },
        "outputId": "5212bdbd-7f17-45a0-8620-892ac6ebc577"
      },
      "source": [
        "colors.append(tt)\n",
        "colors"
      ],
      "execution_count": null,
      "outputs": [
        {
          "output_type": "execute_result",
          "data": {
            "text/plain": [
              "['red', 'blue', 3.14, 'black', 'white', ('truc', 3.14, 'truc')]"
            ]
          },
          "metadata": {},
          "execution_count": 72
        }
      ]
    },
    {
      "cell_type": "code",
      "metadata": {
        "ExecuteTime": {
          "end_time": "2020-09-03T08:37:33.185157Z",
          "start_time": "2020-09-03T08:37:33.052Z"
        },
        "scrolled": true,
        "id": "jBge6vH9wvUb",
        "colab": {
          "base_uri": "https://localhost:8080/"
        },
        "outputId": "fadc5301-7762-4af6-ed91-6b612f6c601b"
      },
      "source": [
        "len(colors)"
      ],
      "execution_count": null,
      "outputs": [
        {
          "output_type": "execute_result",
          "data": {
            "text/plain": [
              "6"
            ]
          },
          "metadata": {},
          "execution_count": 73
        }
      ]
    },
    {
      "cell_type": "markdown",
      "metadata": {
        "id": "wQ4lFi4RwvUe"
      },
      "source": [
        "\n",
        "### Τεμαχισμός (Slicing)"
      ]
    },
    {
      "cell_type": "code",
      "metadata": {
        "ExecuteTime": {
          "end_time": "2020-09-03T08:37:33.186138Z",
          "start_time": "2020-09-03T08:37:33.054Z"
        },
        "id": "NxEKOTXnwvUf",
        "colab": {
          "base_uri": "https://localhost:8080/"
        },
        "outputId": "e5cd766c-e767-4a92-ab70-7cb667c31ec9"
      },
      "source": [
        "colors"
      ],
      "execution_count": null,
      "outputs": [
        {
          "output_type": "execute_result",
          "data": {
            "text/plain": [
              "['red', 'blue', 3.14, 'black', 'white', ('truc', 3.14, 'truc')]"
            ]
          },
          "metadata": {},
          "execution_count": 74
        }
      ]
    },
    {
      "cell_type": "code",
      "metadata": {
        "ExecuteTime": {
          "end_time": "2020-09-03T08:37:33.187299Z",
          "start_time": "2020-09-03T08:37:33.055Z"
        },
        "id": "5GdE20B2wvUi",
        "colab": {
          "base_uri": "https://localhost:8080/"
        },
        "outputId": "1733212d-bce2-4e52-c985-933680393637"
      },
      "source": [
        "list(reversed(colors))"
      ],
      "execution_count": null,
      "outputs": [
        {
          "output_type": "execute_result",
          "data": {
            "text/plain": [
              "[('truc', 3.14, 'truc'), 'white', 'black', 3.14, 'blue', 'red']"
            ]
          },
          "metadata": {},
          "execution_count": 75
        }
      ]
    },
    {
      "cell_type": "code",
      "metadata": {
        "ExecuteTime": {
          "end_time": "2020-09-03T08:37:33.188380Z",
          "start_time": "2020-09-03T08:37:33.057Z"
        },
        "scrolled": true,
        "id": "JuIZlKCGwvUk",
        "colab": {
          "base_uri": "https://localhost:8080/"
        },
        "outputId": "818e35e7-e6fd-4845-dd39-25803fc62f14"
      },
      "source": [
        "colors[::-1]"
      ],
      "execution_count": null,
      "outputs": [
        {
          "output_type": "execute_result",
          "data": {
            "text/plain": [
              "[('truc', 3.14, 'truc'), 'white', 'black', 3.14, 'blue', 'red']"
            ]
          },
          "metadata": {},
          "execution_count": 76
        }
      ]
    },
    {
      "cell_type": "markdown",
      "metadata": {
        "id": "lwQUMhHPwvUp"
      },
      "source": [
        "**Slicing syntax**: ``colors[start:stop:stride]``\n",
        "\n",
        "όλες οι slicing parameters είναι προαιρετικές"
      ]
    },
    {
      "cell_type": "code",
      "metadata": {
        "ExecuteTime": {
          "end_time": "2020-09-03T08:37:33.189292Z",
          "start_time": "2020-09-03T08:37:33.060Z"
        },
        "id": "37MPeHKDwvUp",
        "colab": {
          "base_uri": "https://localhost:8080/"
        },
        "outputId": "b0840522-5a17-4649-a9b1-ff6ed6550b39"
      },
      "source": [
        "colors"
      ],
      "execution_count": null,
      "outputs": [
        {
          "output_type": "execute_result",
          "data": {
            "text/plain": [
              "['red', 'blue', 3.14, 'black', 'white', ('truc', 3.14, 'truc')]"
            ]
          },
          "metadata": {},
          "execution_count": 77
        }
      ]
    },
    {
      "cell_type": "code",
      "metadata": {
        "ExecuteTime": {
          "end_time": "2020-09-03T08:37:33.190371Z",
          "start_time": "2020-09-03T08:37:33.062Z"
        },
        "id": "U-EotySbwvUs",
        "colab": {
          "base_uri": "https://localhost:8080/"
        },
        "outputId": "da0de809-e3da-4494-f79f-8b98e2ee643d"
      },
      "source": [
        "colors[3:]"
      ],
      "execution_count": null,
      "outputs": [
        {
          "output_type": "execute_result",
          "data": {
            "text/plain": [
              "['black', 'white', ('truc', 3.14, 'truc')]"
            ]
          },
          "metadata": {},
          "execution_count": 78
        }
      ]
    },
    {
      "cell_type": "code",
      "metadata": {
        "ExecuteTime": {
          "end_time": "2020-09-03T08:37:33.191447Z",
          "start_time": "2020-09-03T08:37:33.064Z"
        },
        "id": "R3HF4eAfwvUv",
        "colab": {
          "base_uri": "https://localhost:8080/"
        },
        "outputId": "319c055d-07a1-4d46-c625-b28487e25f39"
      },
      "source": [
        "colors[:3]"
      ],
      "execution_count": null,
      "outputs": [
        {
          "output_type": "execute_result",
          "data": {
            "text/plain": [
              "['red', 'blue', 3.14]"
            ]
          },
          "metadata": {},
          "execution_count": 79
        }
      ]
    },
    {
      "cell_type": "code",
      "metadata": {
        "ExecuteTime": {
          "end_time": "2020-09-03T08:37:33.192365Z",
          "start_time": "2020-09-03T08:37:33.066Z"
        },
        "scrolled": true,
        "id": "eKNHZwuHwvUx",
        "colab": {
          "base_uri": "https://localhost:8080/"
        },
        "outputId": "7206fb14-d505-4999-c8d5-0a29c6eb7fa7"
      },
      "source": [
        "colors[1::2]"
      ],
      "execution_count": null,
      "outputs": [
        {
          "output_type": "execute_result",
          "data": {
            "text/plain": [
              "['blue', 'black', ('truc', 3.14, 'truc')]"
            ]
          },
          "metadata": {},
          "execution_count": 80
        }
      ]
    },
    {
      "cell_type": "code",
      "metadata": {
        "ExecuteTime": {
          "end_time": "2020-09-03T08:37:33.193446Z",
          "start_time": "2020-09-03T08:37:33.068Z"
        },
        "id": "-mfJCtukwvU0",
        "colab": {
          "base_uri": "https://localhost:8080/"
        },
        "outputId": "a185d840-fe64-409d-c0d9-64f8a39bc3ab"
      },
      "source": [
        "colors[::-1]"
      ],
      "execution_count": null,
      "outputs": [
        {
          "output_type": "execute_result",
          "data": {
            "text/plain": [
              "[('truc', 3.14, 'truc'), 'white', 'black', 3.14, 'blue', 'red']"
            ]
          },
          "metadata": {},
          "execution_count": 81
        }
      ]
    },
    {
      "cell_type": "code",
      "source": [
        "print(tt)"
      ],
      "metadata": {
        "id": "7av2K0Mz6lg5",
        "colab": {
          "base_uri": "https://localhost:8080/"
        },
        "outputId": "9f5e1f5e-d573-4f1c-9a5e-0b2a01516bbf"
      },
      "execution_count": null,
      "outputs": [
        {
          "output_type": "stream",
          "name": "stdout",
          "text": [
            "('truc', 3.14, 'truc')\n"
          ]
        }
      ]
    },
    {
      "cell_type": "code",
      "metadata": {
        "ExecuteTime": {
          "end_time": "2020-09-03T08:37:33.219569Z",
          "start_time": "2020-09-03T08:37:33.110Z"
        },
        "scrolled": true,
        "colab": {
          "base_uri": "https://localhost:8080/"
        },
        "id": "bUu5BiQ56lg5",
        "outputId": "8785da98-b0e0-41cd-f538-af76736c0cda"
      },
      "source": [
        "print('truc' in tt)"
      ],
      "execution_count": null,
      "outputs": [
        {
          "output_type": "stream",
          "name": "stdout",
          "text": [
            "True\n"
          ]
        }
      ]
    },
    {
      "cell_type": "code",
      "metadata": {
        "ExecuteTime": {
          "end_time": "2020-09-03T08:37:33.220512Z",
          "start_time": "2020-09-03T08:37:33.112Z"
        },
        "scrolled": true,
        "colab": {
          "base_uri": "https://localhost:8080/"
        },
        "id": "W94vDIVZ6lg6",
        "outputId": "5088252d-fa50-4f8c-df2d-698bacd94cd3"
      },
      "source": [
        "print('truc' in colors)"
      ],
      "execution_count": null,
      "outputs": [
        {
          "output_type": "stream",
          "name": "stdout",
          "text": [
            "False\n"
          ]
        }
      ]
    },
    {
      "cell_type": "code",
      "metadata": {
        "ExecuteTime": {
          "end_time": "2020-09-03T08:37:33.221506Z",
          "start_time": "2020-09-03T08:37:33.113Z"
        },
        "scrolled": true,
        "colab": {
          "base_uri": "https://localhost:8080/"
        },
        "id": "mi8ow_LK6lg6",
        "outputId": "58b7d73c-5034-4a9c-f2e3-eb818f698509"
      },
      "source": [
        "('truc', 3.14, 'truc') in colors"
      ],
      "execution_count": null,
      "outputs": [
        {
          "output_type": "execute_result",
          "data": {
            "text/plain": [
              "True"
            ]
          },
          "metadata": {},
          "execution_count": 85
        }
      ]
    },
    {
      "cell_type": "markdown",
      "metadata": {
        "id": "hPhKSLBPwvWF"
      },
      "source": [
        "### Dictionaries\n",
        "`{}: άγκιστρα`\n",
        "\n",
        "Ένα λεξικό είναι μια δομή δεδομένων που **αντιστοιχίζει τα κλειδιά σε τιμές**. "
      ]
    },
    {
      "cell_type": "code",
      "metadata": {
        "ExecuteTime": {
          "end_time": "2020-09-03T08:37:33.227086Z",
          "start_time": "2020-09-03T08:37:33.120Z"
        },
        "id": "56gs6-RjwvWG",
        "colab": {
          "base_uri": "https://localhost:8080/"
        },
        "outputId": "1a1fd9ff-7609-49e6-8881-9588af5a87a7"
      },
      "source": [
        "tel = {'emmanuelle': 5752, 'sebastian': 5578}\n",
        "print(tel)\n",
        "print(type(tel))"
      ],
      "execution_count": null,
      "outputs": [
        {
          "output_type": "stream",
          "name": "stdout",
          "text": [
            "{'emmanuelle': 5752, 'sebastian': 5578}\n",
            "<class 'dict'>\n"
          ]
        }
      ]
    },
    {
      "cell_type": "code",
      "metadata": {
        "ExecuteTime": {
          "end_time": "2020-09-03T08:37:33.228177Z",
          "start_time": "2020-09-03T08:37:33.122Z"
        },
        "scrolled": true,
        "id": "nDyeUkqgwvWH",
        "colab": {
          "base_uri": "https://localhost:8080/"
        },
        "outputId": "90132e0c-c9a2-4497-82f0-f6817338c0d2"
      },
      "source": [
        "tel['emmanuelle'], tel['sebastian']"
      ],
      "execution_count": null,
      "outputs": [
        {
          "output_type": "execute_result",
          "data": {
            "text/plain": [
              "(5752, 5578)"
            ]
          },
          "metadata": {},
          "execution_count": 87
        }
      ]
    },
    {
      "cell_type": "code",
      "metadata": {
        "ExecuteTime": {
          "end_time": "2020-09-03T08:37:33.230356Z",
          "start_time": "2020-09-03T08:37:33.125Z"
        },
        "scrolled": true,
        "colab": {
          "base_uri": "https://localhost:8080/"
        },
        "outputId": "0b1fc2a0-7de1-4bec-81b6-8b0bfab9ec49",
        "id": "msHoAcShLEwa"
      },
      "source": [
        "len(tel)"
      ],
      "execution_count": null,
      "outputs": [
        {
          "output_type": "execute_result",
          "data": {
            "text/plain": [
              "2"
            ]
          },
          "metadata": {},
          "execution_count": 88
        }
      ]
    },
    {
      "cell_type": "code",
      "metadata": {
        "ExecuteTime": {
          "end_time": "2020-09-03T08:37:33.229283Z",
          "start_time": "2020-09-03T08:37:33.123Z"
        },
        "id": "na-TD6fKwvWK",
        "colab": {
          "base_uri": "https://localhost:8080/"
        },
        "outputId": "a785349d-8d08-4a1b-f74a-4243cda5ec67"
      },
      "source": [
        "tel['francis'] = '5919'\n",
        "tel"
      ],
      "execution_count": null,
      "outputs": [
        {
          "output_type": "execute_result",
          "data": {
            "text/plain": [
              "{'emmanuelle': 5752, 'sebastian': 5578, 'francis': '5919'}"
            ]
          },
          "metadata": {},
          "execution_count": 89
        }
      ]
    },
    {
      "cell_type": "code",
      "metadata": {
        "ExecuteTime": {
          "end_time": "2020-09-03T08:37:33.230356Z",
          "start_time": "2020-09-03T08:37:33.125Z"
        },
        "scrolled": true,
        "id": "QlUFY4YdwvWL",
        "colab": {
          "base_uri": "https://localhost:8080/"
        },
        "outputId": "f0b774f6-2544-459a-a428-8423056e5ad7"
      },
      "source": [
        "len(tel)"
      ],
      "execution_count": null,
      "outputs": [
        {
          "output_type": "execute_result",
          "data": {
            "text/plain": [
              "3"
            ]
          },
          "metadata": {},
          "execution_count": 90
        }
      ]
    },
    {
      "cell_type": "markdown",
      "metadata": {
        "id": "U2EHUahMwvWO"
      },
      "source": [
        "#### Σημαντικές παρατηρήσεις#\n",
        "- Τα κλειδιά μπορεί να είναι διαφορετικών τύπων \n",
        "- Ένα κλειδί-key πρέπει να είναι τύπου *immutable* "
      ]
    },
    {
      "cell_type": "code",
      "metadata": {
        "ExecuteTime": {
          "end_time": "2020-09-03T08:37:33.231415Z",
          "start_time": "2020-09-03T08:37:33.127Z"
        },
        "scrolled": true,
        "id": "kYIbhfZ0wvWO",
        "colab": {
          "base_uri": "https://localhost:8080/"
        },
        "outputId": "4fd4e3db-999a-4a7a-dba5-680823991784"
      },
      "source": [
        "tel[7162453] = [1, 3, 2]\n",
        "tel[3.14] = 'bidule'\n",
        "tel[('George', 2)] = 1234\n",
        "tel"
      ],
      "execution_count": null,
      "outputs": [
        {
          "output_type": "execute_result",
          "data": {
            "text/plain": [
              "{'emmanuelle': 5752,\n",
              " 'sebastian': 5578,\n",
              " 'francis': '5919',\n",
              " 7162453: [1, 3, 2],\n",
              " 3.14: 'bidule',\n",
              " ('George', 2): 1234}"
            ]
          },
          "metadata": {},
          "execution_count": 91
        }
      ]
    },
    {
      "cell_type": "code",
      "metadata": {
        "ExecuteTime": {
          "end_time": "2020-09-03T08:37:33.232489Z",
          "start_time": "2020-09-03T08:37:33.128Z"
        },
        "id": "oa0qRYZiwvWQ",
        "colab": {
          "base_uri": "https://localhost:8080/",
          "height": 183
        },
        "outputId": "f966ccbe-d119-4453-ef32-2ff6f4d8c0d3"
      },
      "source": [
        "# A list is mutable\n",
        "tel[['George']] = '5678'"
      ],
      "execution_count": null,
      "outputs": [
        {
          "output_type": "error",
          "ename": "TypeError",
          "evalue": "ignored",
          "traceback": [
            "\u001b[0;31m---------------------------------------------------------------------------\u001b[0m",
            "\u001b[0;31mTypeError\u001b[0m                                 Traceback (most recent call last)",
            "\u001b[0;32m<ipython-input-92-9f2dfcf55367>\u001b[0m in \u001b[0;36m<module>\u001b[0;34m\u001b[0m\n\u001b[1;32m      1\u001b[0m \u001b[0;31m# A list is immutable\u001b[0m\u001b[0;34m\u001b[0m\u001b[0;34m\u001b[0m\u001b[0;34m\u001b[0m\u001b[0m\n\u001b[0;32m----> 2\u001b[0;31m \u001b[0mtel\u001b[0m\u001b[0;34m[\u001b[0m\u001b[0;34m[\u001b[0m\u001b[0;34m'George'\u001b[0m\u001b[0;34m]\u001b[0m\u001b[0;34m]\u001b[0m \u001b[0;34m=\u001b[0m \u001b[0;34m'5678'\u001b[0m\u001b[0;34m\u001b[0m\u001b[0;34m\u001b[0m\u001b[0m\n\u001b[0m",
            "\u001b[0;31mTypeError\u001b[0m: unhashable type: 'list'"
          ]
        }
      ]
    },
    {
      "cell_type": "code",
      "metadata": {
        "ExecuteTime": {
          "end_time": "2020-09-03T08:37:33.233563Z",
          "start_time": "2020-09-03T08:37:33.129Z"
        },
        "scrolled": false,
        "id": "rUWIYP5RwvWR"
      },
      "source": [
        "tel = {'emmanuelle': 5752, 'sebastian' : 5578, 'George' : 1234}\n",
        "print(tel.keys())\n",
        "print(tel.values())\n",
        "print(tel.items())"
      ],
      "execution_count": null,
      "outputs": []
    },
    {
      "cell_type": "code",
      "metadata": {
        "ExecuteTime": {
          "end_time": "2020-09-03T08:37:33.234652Z",
          "start_time": "2020-09-03T08:37:33.131Z"
        },
        "id": "fiU6DjzlwvWT"
      },
      "source": [
        "'emmanuelle' in tel"
      ],
      "execution_count": null,
      "outputs": []
    },
    {
      "cell_type": "code",
      "metadata": {
        "ExecuteTime": {
          "end_time": "2020-09-03T08:37:33.235653Z",
          "start_time": "2020-09-03T08:37:33.132Z"
        },
        "scrolled": false,
        "id": "bNf2rJkgwvWV"
      },
      "source": [
        "5919 in tel.values()"
      ],
      "execution_count": null,
      "outputs": []
    },
    {
      "cell_type": "markdown",
      "metadata": {
        "id": "3W9n6_aswvWW"
      },
      "source": [
        "Μπορείτε να κάνετε ανταλλαγή τιμών (swap values):"
      ]
    },
    {
      "cell_type": "code",
      "metadata": {
        "ExecuteTime": {
          "end_time": "2020-09-03T08:37:33.236664Z",
          "start_time": "2020-09-03T08:37:33.134Z"
        },
        "scrolled": true,
        "id": "8XEP_HrywvWW"
      },
      "source": [
        "print(tel)\n",
        "tel['emmanuelle'], tel['sebastian'] = tel['sebastian'], tel['emmanuelle']\n",
        "print(tel)"
      ],
      "execution_count": null,
      "outputs": []
    },
    {
      "cell_type": "code",
      "metadata": {
        "ExecuteTime": {
          "end_time": "2020-09-03T08:37:33.237676Z",
          "start_time": "2020-09-03T08:37:33.136Z"
        },
        "scrolled": true,
        "id": "5VUjji_3wvWY"
      },
      "source": [
        "# It works, since\n",
        "a, b = 2.71, 3.14\n",
        "a, b = b, a\n",
        "a, b"
      ],
      "execution_count": null,
      "outputs": []
    },
    {
      "cell_type": "markdown",
      "metadata": {
        "id": "nlnQoONkwvWo"
      },
      "source": [
        "### Sets\n",
        "\n",
        "Ένα σύνολο είναι ένα μη ταξινομημένο container, που περιέχει μοναδικά στοιχεία"
      ]
    },
    {
      "cell_type": "code",
      "metadata": {
        "ExecuteTime": {
          "end_time": "2020-09-03T08:37:33.245863Z",
          "start_time": "2020-09-03T08:37:33.149Z"
        },
        "scrolled": true,
        "id": "EW16VYmFwvWp"
      },
      "source": [
        "s1 = {1, 1, 1, 3, 'di', 'co'}\n",
        "s1"
      ],
      "execution_count": null,
      "outputs": []
    },
    {
      "cell_type": "code",
      "metadata": {
        "ExecuteTime": {
          "end_time": "2020-09-03T08:37:33.246841Z",
          "start_time": "2020-09-03T08:37:33.151Z"
        },
        "scrolled": false,
        "id": "W24CI96qwvWr"
      },
      "source": [
        "s2 = 'truc1 truc2'\n",
        "s=set(s2)"
      ],
      "execution_count": null,
      "outputs": []
    },
    {
      "cell_type": "code",
      "metadata": {
        "ExecuteTime": {
          "end_time": "2020-09-03T08:37:33.247860Z",
          "start_time": "2020-09-03T08:37:33.152Z"
        },
        "id": "0DXCGZc9wvWs"
      },
      "source": [
        "{1, 5, 2, 1, 1}.union({1, 2, 3})"
      ],
      "execution_count": null,
      "outputs": []
    },
    {
      "cell_type": "code",
      "metadata": {
        "ExecuteTime": {
          "end_time": "2020-09-03T08:37:33.249008Z",
          "start_time": "2020-09-03T08:37:33.153Z"
        },
        "id": "C6pGQAjAwvWu"
      },
      "source": [
        "set([1, 5, 2, 1, 1]).intersection(set([1, 2, 3]))"
      ],
      "execution_count": null,
      "outputs": []
    },
    {
      "cell_type": "code",
      "metadata": {
        "ExecuteTime": {
          "end_time": "2020-09-03T08:37:33.249867Z",
          "start_time": "2020-09-03T08:37:33.155Z"
        },
        "id": "d09BvKXmwvWw"
      },
      "source": [
        "s.add('truc3')\n",
        "s"
      ],
      "execution_count": null,
      "outputs": []
    },
    {
      "cell_type": "markdown",
      "metadata": {
        "id": "HC0ortgQwvWz"
      },
      "source": [
        "## Σχετικά με τις αναθέσεις τιμών\n",
        "\n",
        "Οι αναθέσεις τιμών σε μεταβλητές στην \"Python\" είναι δεσμευτικές για το όνομα της μεταβλητής\n",
        "\n",
        "\n",
        "- Η Python δεν αντιγράφει ποτέ ένα αντικείμενο \n",
        "- Εκτός κι αν ζητήσουμε να το κάνει\n",
        "\n"
      ]
    },
    {
      "cell_type": "markdown",
      "metadata": {
        "id": "89CaI0QhwvW3"
      },
      "source": [
        "**Ερώτηση** Τι είναι το y;"
      ]
    },
    {
      "cell_type": "code",
      "source": [
        "x=300\n",
        "y=x\n",
        "print(\"x=\",x)\n",
        "print(\"y=\",y)"
      ],
      "metadata": {
        "colab": {
          "base_uri": "https://localhost:8080/"
        },
        "id": "grqJYPfgdZBX",
        "outputId": "a3fe3526-e77c-433d-852a-4cd43c78ba01"
      },
      "execution_count": null,
      "outputs": [
        {
          "output_type": "stream",
          "name": "stdout",
          "text": [
            "x= 300\n",
            "y= 300\n"
          ]
        }
      ]
    },
    {
      "cell_type": "code",
      "source": [
        "id(x), id(y)"
      ],
      "metadata": {
        "colab": {
          "base_uri": "https://localhost:8080/"
        },
        "id": "-Z_O86aNdqme",
        "outputId": "090fb3ba-3e43-4def-c9e4-e7e1f167d95f"
      },
      "execution_count": null,
      "outputs": [
        {
          "output_type": "execute_result",
          "data": {
            "text/plain": [
              "(140657657087440, 140657657087440)"
            ]
          },
          "metadata": {},
          "execution_count": 94
        }
      ]
    },
    {
      "cell_type": "markdown",
      "metadata": {
        "id": "T0vqBe9VwvW5"
      },
      "source": [
        "Τα `x` και  `y` είναι ονόματα μεταβλητών που 'δείχνουν' στο ίδιο αντικείμενο -PyObject"
      ]
    },
    {
      "cell_type": "code",
      "source": [
        "x is y"
      ],
      "metadata": {
        "colab": {
          "base_uri": "https://localhost:8080/"
        },
        "id": "ZfOsZA8ndwiM",
        "outputId": "35c3ec41-e447-4e1c-d019-06165b5a1603"
      },
      "execution_count": null,
      "outputs": [
        {
          "output_type": "execute_result",
          "data": {
            "text/plain": [
              "True"
            ]
          },
          "metadata": {},
          "execution_count": 95
        }
      ]
    },
    {
      "cell_type": "code",
      "source": [
        "del x"
      ],
      "metadata": {
        "id": "SCjR2FKpeC3E"
      },
      "execution_count": null,
      "outputs": []
    },
    {
      "cell_type": "code",
      "source": [
        "id(x)"
      ],
      "metadata": {
        "colab": {
          "base_uri": "https://localhost:8080/",
          "height": 166
        },
        "id": "oQtU9IQKeUV1",
        "outputId": "f1a45e80-8434-452f-8c85-2de79aa7dcc1"
      },
      "execution_count": null,
      "outputs": [
        {
          "output_type": "error",
          "ename": "NameError",
          "evalue": "ignored",
          "traceback": [
            "\u001b[0;31m---------------------------------------------------------------------------\u001b[0m",
            "\u001b[0;31mNameError\u001b[0m                                 Traceback (most recent call last)",
            "\u001b[0;32m<ipython-input-97-e3f71ffdf578>\u001b[0m in \u001b[0;36m<module>\u001b[0;34m\u001b[0m\n\u001b[0;32m----> 1\u001b[0;31m \u001b[0mid\u001b[0m\u001b[0;34m(\u001b[0m\u001b[0mx\u001b[0m\u001b[0;34m)\u001b[0m\u001b[0;34m\u001b[0m\u001b[0;34m\u001b[0m\u001b[0m\n\u001b[0m",
            "\u001b[0;31mNameError\u001b[0m: name 'x' is not defined"
          ]
        }
      ]
    },
    {
      "cell_type": "code",
      "source": [
        "id(y)"
      ],
      "metadata": {
        "colab": {
          "base_uri": "https://localhost:8080/"
        },
        "id": "eA0hCgOcePYK",
        "outputId": "04c671c7-dda2-447f-c3a1-3c1d5353d022"
      },
      "execution_count": null,
      "outputs": [
        {
          "output_type": "execute_result",
          "data": {
            "text/plain": [
              "140657657087440"
            ]
          },
          "metadata": {},
          "execution_count": 98
        }
      ]
    },
    {
      "cell_type": "markdown",
      "source": [
        "![image.png](data:image/png;base64,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)"
      ],
      "metadata": {
        "id": "mOHSfoGxZfo4"
      }
    },
    {
      "cell_type": "markdown",
      "metadata": {
        "id": "4mMHVirvwvXY"
      },
      "source": [
        "#Ροές ελέγχου\n",
        "\n",
        "```\n",
        "Τα μπλοκς οριοθετούνται με εσοχή!\n",
        "```"
      ]
    },
    {
      "cell_type": "code",
      "metadata": {
        "ExecuteTime": {
          "end_time": "2020-09-03T08:37:33.418600Z",
          "start_time": "2020-09-03T08:37:33.415810Z"
        },
        "id": "XxRLBrVTwvXZ"
      },
      "source": [
        "if 2 ** 2 == 5:   # προσοχή στη στοίχιση\n",
        "    print('Σωστά')\n",
        "    \n",
        "else:\n",
        "    print('Λάθος')"
      ],
      "execution_count": null,
      "outputs": []
    },
    {
      "cell_type": "code",
      "metadata": {
        "ExecuteTime": {
          "end_time": "2020-09-03T08:37:33.422976Z",
          "start_time": "2020-09-03T08:37:33.419919Z"
        },
        "id": "tc2wizvfwvXa"
      },
      "source": [
        "a=-3\n",
        "if a > 0:\n",
        "    if a == 1:\n",
        "        print(1)\n",
        "    elif a == 2:\n",
        "        print(2)\n",
        "else:\n",
        "    print(a)"
      ],
      "execution_count": null,
      "outputs": []
    },
    {
      "cell_type": "markdown",
      "metadata": {
        "id": "ystLJMNywvXb"
      },
      "source": [
        "> Οτιδήποτε μπορεί να γίνει κατανοητό ως boolean \n",
        "Για παράδειγμα, μην το κάνετε αυτό για να ελέγξετε εάν μια λίστα είναι κενή"
      ]
    },
    {
      "cell_type": "code",
      "metadata": {
        "ExecuteTime": {
          "end_time": "2020-09-03T08:37:33.426569Z",
          "start_time": "2020-09-03T08:37:33.424210Z"
        },
        "id": "1fs7kaMUwvXe"
      },
      "source": [
        "l2 = ['hello', 'everybody']\n",
        "\n",
        "if len(l2) > 0:\n",
        "    print(l2[0])"
      ],
      "execution_count": null,
      "outputs": []
    },
    {
      "cell_type": "markdown",
      "metadata": {
        "id": "RAx3mSGGwvXf"
      },
      "source": [
        "αλλά αυτό"
      ]
    },
    {
      "cell_type": "code",
      "metadata": {
        "ExecuteTime": {
          "end_time": "2020-09-03T08:37:33.430086Z",
          "start_time": "2020-09-03T08:37:33.427914Z"
        },
        "id": "KiHZwS_8wvXf"
      },
      "source": [
        "if l2:\n",
        "    print(l2[0])"
      ],
      "execution_count": null,
      "outputs": []
    },
    {
      "cell_type": "markdown",
      "metadata": {
        "id": "oNeOrh7WwvXh"
      },
      "source": [
        "## While loops"
      ]
    },
    {
      "cell_type": "code",
      "metadata": {
        "ExecuteTime": {
          "end_time": "2020-09-03T08:37:33.433946Z",
          "start_time": "2020-09-03T08:37:33.431337Z"
        },
        "id": "-WMGB49KwvXh",
        "colab": {
          "base_uri": "https://localhost:8080/"
        },
        "outputId": "568599fc-d1d9-4fe5-c139-ac5f7da49ee4"
      },
      "source": [
        "a = 10\n",
        "b = 1\n",
        "while b < a:\n",
        "    b = b + 1\n",
        "    print(b)\n",
        "    print(a) "
      ],
      "execution_count": null,
      "outputs": [
        {
          "output_type": "stream",
          "name": "stdout",
          "text": [
            "2\n",
            "10\n",
            "3\n",
            "10\n",
            "4\n",
            "10\n",
            "5\n",
            "10\n",
            "6\n",
            "10\n",
            "7\n",
            "10\n",
            "8\n",
            "10\n",
            "9\n",
            "10\n",
            "10\n",
            "10\n"
          ]
        }
      ]
    },
    {
      "cell_type": "markdown",
      "metadata": {
        "id": "6lCL3_bnwvXn"
      },
      "source": [
        "##  `for` loop with `range`\n",
        "-Το \"range-εύρος\" έχει τις ίδιες παραμέτρους όπως με τον τεμαχισμό(slicing) \"start:end:stride\", όλες οι παράμετροι είναι προαιρετικές"
      ]
    },
    {
      "cell_type": "code",
      "metadata": {
        "ExecuteTime": {
          "end_time": "2020-09-03T08:37:33.528738Z",
          "start_time": "2020-09-03T08:37:33.526065Z"
        },
        "scrolled": true,
        "id": "nrHHCcFuwvXn",
        "colab": {
          "base_uri": "https://localhost:8080/"
        },
        "outputId": "624dbe2f-6dcc-42ec-e6f9-0a01e5c78986"
      },
      "source": [
        "for i in range(7, 1, -1):\n",
        "    print(i)"
      ],
      "execution_count": null,
      "outputs": [
        {
          "output_type": "stream",
          "name": "stdout",
          "text": [
            "7\n",
            "6\n",
            "5\n",
            "4\n",
            "3\n",
            "2\n"
          ]
        }
      ]
    },
    {
      "cell_type": "code",
      "metadata": {
        "ExecuteTime": {
          "end_time": "2020-09-03T08:37:33.533990Z",
          "start_time": "2020-09-03T08:37:33.530290Z"
        },
        "id": "IDvf0yE2wvXo",
        "colab": {
          "base_uri": "https://localhost:8080/"
        },
        "outputId": "94ebf24d-c960-411b-b6e6-dfd18ab4ddbd"
      },
      "source": [
        "for i in range(4):\n",
        "    print(i + 1)\n",
        "print('-')\n",
        "\n",
        "for i in range(1, 5):\n",
        "    print(i)\n",
        "print('-')\n",
        "\n",
        "for i in range(1, 10, 3):\n",
        "    print(i)"
      ],
      "execution_count": null,
      "outputs": [
        {
          "output_type": "stream",
          "name": "stdout",
          "text": [
            "1\n",
            "2\n",
            "3\n",
            "4\n",
            "-\n",
            "1\n",
            "2\n",
            "3\n",
            "4\n",
            "-\n",
            "1\n",
            "4\n",
            "7\n"
          ]
        }
      ]
    },
    {
      "cell_type": "markdown",
      "metadata": {
        "id": "VSNYPL8ewvXq"
      },
      "source": [
        "Μπορούμε να χρησιμοποιήσουμε το `else` μέσα σε ένα `for` loop"
      ]
    },
    {
      "cell_type": "code",
      "metadata": {
        "ExecuteTime": {
          "end_time": "2020-09-03T08:37:33.538570Z",
          "start_time": "2020-09-03T08:37:33.535582Z"
        },
        "id": "AThuG53jwvXq"
      },
      "source": [
        "names = ['stephane', 'Mary', 'George', 'simon', 'Jenny']\n",
        "\n",
        "for name in names:\n",
        "    if name.startswith('u'):\n",
        "        print(name)\n",
        "        break\n",
        "else:\n",
        "    print('Not found.')"
      ],
      "execution_count": null,
      "outputs": []
    },
    {
      "cell_type": "code",
      "metadata": {
        "ExecuteTime": {
          "end_time": "2020-09-03T08:37:33.543299Z",
          "start_time": "2020-09-03T08:37:33.540040Z"
        },
        "id": "eJ3P6cg2wvXv"
      },
      "source": [
        "names = ['stephane', 'Mary', 'George', 'Jack', 'simon', 'Jenny']\n",
        "\n",
        "for name in names:\n",
        "    if name.startswith('u'):\n",
        "        print(name)\n",
        "        break\n",
        "else:\n",
        "    print('Not found.')"
      ],
      "execution_count": null,
      "outputs": []
    },
    {
      "cell_type": "markdown",
      "metadata": {
        "id": "F4_0wk1wwvXy"
      },
      "source": [
        "## For loops over iterable objects\n",
        "\n",
        "Σε όλα τα container: `list`, `tuple`, `dict`, `str`, `set` ..."
      ]
    },
    {
      "cell_type": "code",
      "metadata": {
        "ExecuteTime": {
          "end_time": "2020-09-03T08:37:33.547181Z",
          "start_time": "2020-09-03T08:37:33.544947Z"
        },
        "id": "msL3vDfIwvXz"
      },
      "source": [
        "colors = ['red', 'blue', 'black', 'white']\n",
        "peoples = ['Stephane', 'George', 'Mary', 'Jenny']"
      ],
      "execution_count": null,
      "outputs": []
    },
    {
      "cell_type": "code",
      "metadata": {
        "ExecuteTime": {
          "end_time": "2020-09-03T08:37:33.551786Z",
          "start_time": "2020-09-03T08:37:33.548750Z"
        },
        "scrolled": true,
        "id": "Jk2K719uwvX1"
      },
      "source": [
        "# This is stupid\n",
        "for i in range(len(colors)):\n",
        "    print(colors[i])\n",
        "    \n",
        "# This is better\n",
        "for color in colors:\n",
        "    print(color)"
      ],
      "execution_count": null,
      "outputs": []
    },
    {
      "cell_type": "markdown",
      "metadata": {
        "id": "5bsMJXShwvX4"
      },
      "source": [
        "Για επανάληψη σε πολλές ακολουθίες ταυτόχρονα, χρησιμοποιήστε το `zip`"
      ]
    },
    {
      "cell_type": "code",
      "metadata": {
        "ExecuteTime": {
          "end_time": "2020-09-03T08:37:33.555833Z",
          "start_time": "2020-09-03T08:37:33.553149Z"
        },
        "id": "EOuEPwx1wvX4"
      },
      "source": [
        "for color, people in zip(colors, peoples):\n",
        "    print(color, people)"
      ],
      "execution_count": null,
      "outputs": []
    },
    {
      "cell_type": "code",
      "metadata": {
        "ExecuteTime": {
          "end_time": "2020-09-03T08:37:33.560251Z",
          "start_time": "2020-09-03T08:37:33.557477Z"
        },
        "scrolled": true,
        "id": "-bbLQJVVwvX6"
      },
      "source": [
        "l = [\"Bonjour\", {'Francis': 5214, 'Stephane': 5123}, ('truc', 3)]\n",
        "for e in l:\n",
        "    print(e, len(e))"
      ],
      "execution_count": null,
      "outputs": []
    },
    {
      "cell_type": "markdown",
      "metadata": {
        "id": "ofCPEkM-wvX8"
      },
      "source": [
        "**Loop over a `str`**"
      ]
    },
    {
      "cell_type": "code",
      "metadata": {
        "ExecuteTime": {
          "end_time": "2020-09-03T08:37:33.564416Z",
          "start_time": "2020-09-03T08:37:33.561886Z"
        },
        "scrolled": true,
        "id": "_MPJzp5RwvX8"
      },
      "source": [
        "s = 'Bonjour'\n",
        "for c in s:\n",
        "    print(c)"
      ],
      "execution_count": null,
      "outputs": []
    },
    {
      "cell_type": "markdown",
      "metadata": {
        "id": "upSEARDSwvX_"
      },
      "source": [
        "**Loop over a `dict`**"
      ]
    },
    {
      "cell_type": "code",
      "metadata": {
        "ExecuteTime": {
          "end_time": "2020-09-03T08:37:33.569000Z",
          "start_time": "2020-09-03T08:37:33.566174Z"
        },
        "scrolled": true,
        "id": "dRlY40mHwvYA"
      },
      "source": [
        "dd = {(1, 3): {'hello', 'world'}, 'truc': [1, 2, 3], 5: (1, 4, 2)}\n",
        "\n",
        "# Default is to loop over keys\n",
        "for key in dd:\n",
        "    print(key)"
      ],
      "execution_count": null,
      "outputs": []
    },
    {
      "cell_type": "code",
      "metadata": {
        "ExecuteTime": {
          "end_time": "2020-09-03T08:37:33.573006Z",
          "start_time": "2020-09-03T08:37:33.570484Z"
        },
        "scrolled": true,
        "id": "AZlUk-J2wvYB"
      },
      "source": [
        "# Loop over values\n",
        "for e in dd.values():\n",
        "    print(e)"
      ],
      "execution_count": null,
      "outputs": []
    },
    {
      "cell_type": "code",
      "metadata": {
        "ExecuteTime": {
          "end_time": "2020-09-03T08:37:33.577260Z",
          "start_time": "2020-09-03T08:37:33.574632Z"
        },
        "id": "3jB3DizgwvYF"
      },
      "source": [
        "# Loop over items (key, value) pairs\n",
        "for key, val in dd.items():\n",
        "    print(key, val)"
      ],
      "execution_count": null,
      "outputs": []
    },
    {
      "cell_type": "markdown",
      "metadata": {
        "id": "S77XsvTIwvYI"
      },
      "source": [
        "## Comprehensions\n",
        "\n",
        "Μπορείτε να δημιουργήσετε `list`, `dict`, `set` και άλλα χρησιμοποιώντας τo **comprehension** syntax\n",
        "\n",
        "**`list` comprehension**"
      ]
    },
    {
      "cell_type": "markdown",
      "source": [
        "\n",
        "```\n",
        "[statement for var in iterable if condition]\n",
        "```\n",
        "\n"
      ],
      "metadata": {
        "id": "DstEdM_3PwOd"
      }
    },
    {
      "cell_type": "markdown",
      "source": [
        "\n",
        "**`generators` comprehension** "
      ],
      "metadata": {
        "id": "lEQWFQBiQInm"
      }
    },
    {
      "cell_type": "markdown",
      "source": [
        "`(statement for var in list if condition)`\n",
        "\n",
        "Kάνουν το ίδιο, αλλά είναι τεμπέληδες: δεν δημιουργούν τη λίστα μέχρι να τη χρειαστεί:"
      ],
      "metadata": {
        "id": "pJfnhAlFQVF-"
      }
    },
    {
      "cell_type": "code",
      "source": [
        "a = [2, 3, 4, 5]\n",
        "\n",
        "lc = [ x for x in a if x >= 4 ] # List comprehension. Square brackets\n",
        "lg = ( x for x in a if x >= 4 ) # Generator. Round brackets\n",
        "\n",
        "a.extend([6,7,8,9])\n",
        "\n",
        "for i in lc:\n",
        "    print(\"%i \" % i, end=\"\") # end tells the print function not to end with a newline\n",
        "print(\"\\n\")\n",
        "for i in lg:\n",
        "    print(\"%i \" % i, end=\"\")"
      ],
      "metadata": {
        "colab": {
          "base_uri": "https://localhost:8080/"
        },
        "id": "pHL37013P1kp",
        "outputId": "52f0e002-b50e-48aa-c645-3f291f6e0364"
      },
      "execution_count": null,
      "outputs": [
        {
          "output_type": "stream",
          "name": "stdout",
          "text": [
            "4 5 \n",
            "\n",
            "4 5 6 7 8 9 "
          ]
        }
      ]
    },
    {
      "cell_type": "code",
      "metadata": {
        "ExecuteTime": {
          "end_time": "2020-09-03T08:37:33.582919Z",
          "start_time": "2020-09-03T08:37:33.578922Z"
        },
        "id": "yAoq3L9PwvYJ"
      },
      "source": [
        "print(colors)\n",
        "print(peoples)\n",
        "\n",
        "# The list of people with favorite color that has no more than 4 characters\n",
        "[people for color, people in zip(colors, peoples) if len(color) <= 4]"
      ],
      "execution_count": null,
      "outputs": []
    },
    {
      "cell_type": "markdown",
      "metadata": {
        "id": "P_emHMPvwvYK"
      },
      "source": [
        "**`dict` comprehension**"
      ]
    },
    {
      "cell_type": "markdown",
      "source": [
        "\n",
        "\n",
        "```\n",
        "{key:value for (key,value) in dict.items() if condition} \n",
        "```\n",
        "\n"
      ],
      "metadata": {
        "id": "YXjF5EwrQgS4"
      }
    },
    {
      "cell_type": "code",
      "source": [
        "# Quick dictionary creation\n",
        "\n",
        "numbers = range(10)\n",
        "{n:n**2 for n in numbers if n%2 == 0}"
      ],
      "metadata": {
        "colab": {
          "base_uri": "https://localhost:8080/"
        },
        "id": "36m9SHUiQj_2",
        "outputId": "0374a0a2-ecb5-4e9e-9623-7737985efc1e"
      },
      "execution_count": null,
      "outputs": [
        {
          "output_type": "execute_result",
          "data": {
            "text/plain": [
              "{0: 0, 2: 4, 4: 16, 6: 36, 8: 64}"
            ]
          },
          "metadata": {},
          "execution_count": 21
        }
      ]
    },
    {
      "cell_type": "code",
      "metadata": {
        "ExecuteTime": {
          "end_time": "2020-09-03T08:37:33.587932Z",
          "start_time": "2020-09-03T08:37:33.584386Z"
        },
        "scrolled": true,
        "id": "9q6V_jTiwvYK"
      },
      "source": [
        "{people: color for color, people in zip(colors, peoples) if len(color) <= 4}"
      ],
      "execution_count": null,
      "outputs": []
    },
    {
      "cell_type": "code",
      "metadata": {
        "ExecuteTime": {
          "end_time": "2020-09-03T08:37:33.592856Z",
          "start_time": "2020-09-03T08:37:33.589599Z"
        },
        "id": "QbE-ZXtewvYM"
      },
      "source": [
        "# Allows to build a dict from two lists (for keys and values)\n",
        "{key: value for (key, value) in zip(peoples, colors)}"
      ],
      "execution_count": null,
      "outputs": []
    },
    {
      "cell_type": "code",
      "metadata": {
        "ExecuteTime": {
          "end_time": "2020-09-03T08:37:33.597417Z",
          "start_time": "2020-09-03T08:37:33.594270Z"
        },
        "id": "l0nEfWoBwvYN"
      },
      "source": [
        "# But it's simpler (so better) to use\n",
        "dict(zip(peoples, colors))"
      ],
      "execution_count": null,
      "outputs": []
    },
    {
      "cell_type": "markdown",
      "metadata": {
        "id": "aNXR2KrqwvYP"
      },
      "source": [
        "Κάτι πολύ βολικό είναι `enumerate`"
      ]
    },
    {
      "cell_type": "code",
      "metadata": {
        "ExecuteTime": {
          "end_time": "2020-09-03T08:37:33.601535Z",
          "start_time": "2020-09-03T08:37:33.598896Z"
        },
        "id": "tCqbWT0XwvYP",
        "colab": {
          "base_uri": "https://localhost:8080/"
        },
        "outputId": "d996e70a-1bb4-40f2-8c34-1610cff11408"
      },
      "source": [
        "for i, color in enumerate(colors):\n",
        "    print(i, color)"
      ],
      "execution_count": null,
      "outputs": [
        {
          "output_type": "stream",
          "name": "stdout",
          "text": [
            "0 red\n",
            "1 blue\n",
            "2 3.14\n",
            "3 black\n",
            "4 white\n",
            "5 ('truc', 3.14, 'truc')\n"
          ]
        }
      ]
    },
    {
      "cell_type": "code",
      "metadata": {
        "ExecuteTime": {
          "end_time": "2020-09-03T08:37:33.606605Z",
          "start_time": "2020-09-03T08:37:33.603248Z"
        },
        "id": "qsOqg2P8wvYR"
      },
      "source": [
        "list(enumerate(colors))"
      ],
      "execution_count": null,
      "outputs": []
    },
    {
      "cell_type": "code",
      "metadata": {
        "ExecuteTime": {
          "end_time": "2020-09-03T08:37:33.610702Z",
          "start_time": "2020-09-03T08:37:33.608246Z"
        },
        "id": "_zeMlHvWwvYS"
      },
      "source": [
        "print(s)\n",
        "print(dict(enumerate(s)))"
      ],
      "execution_count": null,
      "outputs": []
    },
    {
      "cell_type": "code",
      "metadata": {
        "ExecuteTime": {
          "end_time": "2020-09-03T08:37:33.615660Z",
          "start_time": "2020-09-03T08:37:33.612274Z"
        },
        "id": "WnmkwtLqwvYU"
      },
      "source": [
        "s = 'Hey everyone'\n",
        "{c: i for i, c in enumerate(s)}"
      ],
      "execution_count": null,
      "outputs": []
    },
    {
      "cell_type": "code",
      "source": [
        "# Powerful alternative to replace lambda functions\n",
        "# Convert Fahrenheit to Celsius\n",
        "fahrenheit = {'t1': -30,'t2': 0,'t3': 32,'t4': 100}\n",
        "{k:(float(5)/9)*(v-32) for (k,v) in fahrenheit.items()}"
      ],
      "metadata": {
        "colab": {
          "base_uri": "https://localhost:8080/"
        },
        "id": "dyMoM9-XQoxo",
        "outputId": "eb07e4e2-0679-4eb8-8d5d-0455428fd0d5"
      },
      "execution_count": null,
      "outputs": [
        {
          "output_type": "execute_result",
          "data": {
            "text/plain": [
              "{'t1': -34.44444444444444,\n",
              " 't2': -17.77777777777778,\n",
              " 't3': 0.0,\n",
              " 't4': 37.77777777777778}"
            ]
          },
          "metadata": {},
          "execution_count": 20
        }
      ]
    },
    {
      "cell_type": "markdown",
      "metadata": {
        "id": "PjyYSUAewvYX"
      },
      "source": [
        "#### Σχετικά με το  functional programming\n",
        "\n",
        " Μπορούμε να χρησιμοποιήσουμε το `lambda` για να ορίσουμε **anonymous** συναρτήσεις και να τις χρησιμοποιήσουμε στις συναρτήσεις \"map\" και \"reduce\""
      ]
    },
    {
      "cell_type": "code",
      "metadata": {
        "ExecuteTime": {
          "end_time": "2020-09-03T08:37:33.620009Z",
          "start_time": "2020-09-03T08:37:33.616992Z"
        },
        "scrolled": true,
        "id": "RbsYYDCiwvYX",
        "colab": {
          "base_uri": "https://localhost:8080/"
        },
        "outputId": "549ce9c4-7e83-4ec0-87ec-cf49d02fb66a"
      },
      "source": [
        "square = lambda x: x ** 2\n",
        "square(2)"
      ],
      "execution_count": null,
      "outputs": [
        {
          "output_type": "execute_result",
          "data": {
            "text/plain": [
              "4"
            ]
          },
          "metadata": {},
          "execution_count": 13
        }
      ]
    },
    {
      "cell_type": "code",
      "metadata": {
        "ExecuteTime": {
          "end_time": "2020-09-03T08:37:33.624139Z",
          "start_time": "2020-09-03T08:37:33.621349Z"
        },
        "id": "bQ4NhFShwvYZ",
        "colab": {
          "base_uri": "https://localhost:8080/"
        },
        "outputId": "6f39cd89-d7e1-4e08-80b8-71221911487e"
      },
      "source": [
        "sum2 = lambda a, b: a + b\n",
        "print(sum2('Hello', ' world'))\n",
        "print(sum2(1, 2))"
      ],
      "execution_count": null,
      "outputs": [
        {
          "output_type": "stream",
          "name": "stdout",
          "text": [
            "Hello world\n",
            "3\n"
          ]
        }
      ]
    },
    {
      "cell_type": "markdown",
      "metadata": {
        "id": "o-10CgyhwvYa"
      },
      "source": [
        "Προορίζεται για short και one-line function. \n",
        "Για πιο πολύπλοκες συναρτήσεις χρησιμοποιείται το `def`"
      ]
    },
    {
      "cell_type": "markdown",
      "source": [
        "Μπορείτε να γράψετε πολύπλοκες διαδικασίες σε μερικές κομψές γραμμές κώδικα χρησιμοποιώντας [built-in-functions](https://docs.python.org/2/library/functions.html#map) και βιβλιοθήκες όπως functools, itertools, operator."
      ],
      "metadata": {
        "id": "T2iVmxA5O01e"
      }
    },
    {
      "cell_type": "code",
      "source": [
        "def square(num):\n",
        "    return num ** 2\n",
        "\n",
        "# map(function, iterable) applies a given function to every element of a list\n",
        "list(map(square, [1,2,3,4]))\n",
        "\n",
        "# a lambda function is an anonymous function created on the fly\n",
        "list(map(lambda x: x**2, [1,2,3,4])) \n",
        "mydata = list(map(lambda x: x if x>2 else 0, [1,2,3,4])) \n",
        "mydata\n",
        "\n",
        "# reduce(function, iterable ) applies a function with two arguments cumulatively to every element of a list\n",
        "from functools import reduce\n",
        "reduce(lambda x,y: x+y, [1,2,3,4]) \n",
        "mydata"
      ],
      "metadata": {
        "colab": {
          "base_uri": "https://localhost:8080/"
        },
        "id": "sXaLl5TcO1P9",
        "outputId": "0045c3aa-c52e-4d89-aff9-4e85f5eaa01b"
      },
      "execution_count": null,
      "outputs": [
        {
          "output_type": "execute_result",
          "data": {
            "text/plain": [
              "[0, 0, 3, 4]"
            ]
          },
          "metadata": {},
          "execution_count": 17
        }
      ]
    },
    {
      "cell_type": "code",
      "source": [
        "# filter(function, iterable)) extracts every element for which the function returns true\n",
        "list(filter(lambda x: x>2, [1,2,3,4]))\n",
        "\n",
        "# zip([iterable,...]) returns tuples of corresponding elements of multiple lists\n",
        "list(zip([1,2,3,4],[5,6,7,8,9]))"
      ],
      "metadata": {
        "colab": {
          "base_uri": "https://localhost:8080/"
        },
        "id": "HRINswwhPi6G",
        "outputId": "767edc74-36a6-468b-f2fe-363ea2f29186"
      },
      "execution_count": null,
      "outputs": [
        {
          "output_type": "execute_result",
          "data": {
            "text/plain": [
              "[(1, 5), (2, 6), (3, 7), (4, 8)]"
            ]
          },
          "metadata": {},
          "execution_count": 18
        }
      ]
    },
    {
      "cell_type": "markdown",
      "source": [
        "###Functions\n",
        "\n",
        "Οι συναρτήσεις ορίζονται και καλούνται ως εξής:\n"
      ],
      "metadata": {
        "id": "og6V3OA43PLf"
      }
    },
    {
      "cell_type": "code",
      "source": [
        "def myfunc(a, b):\n",
        "    return a + b\n",
        "\n",
        "myfunc(2, 3)\n"
      ],
      "metadata": {
        "colab": {
          "base_uri": "https://localhost:8080/"
        },
        "id": "BDWs-BHH3GbH",
        "outputId": "3c5ae4d5-a5ba-4790-d9cd-22bcb04baffe"
      },
      "execution_count": null,
      "outputs": [
        {
          "output_type": "execute_result",
          "data": {
            "text/plain": [
              "5"
            ]
          },
          "metadata": {},
          "execution_count": 1
        }
      ]
    },
    {
      "cell_type": "markdown",
      "source": [
        "Τα ορίσματα συνάρτησης (παράμετροι) μπορεί να είναι: \n",
        "* μήκους μεταβλητής (υποδεικνύεται με *) \n",
        "* ένα λεξικό ορισμάτων λέξεων-κλειδιών (υποδεικνύεται με **) \n",
        "* δίνεται μια προεπιλεγμένη τιμή, οπότε δεν απαιτούνται (αλλά πρέπει να είναι τελευταία)\n",
        "```\n",
        "def func(*argv, **kwarg):\n",
        "    print(\"func argv: %s\" % str(argv))\n",
        "    print(\"func kwarg: %s\" % str(kwarg))\n",
        "\n",
        "```\n",
        "\n"
      ],
      "metadata": {
        "id": "L_6aeZK83pp3"
      }
    },
    {
      "cell_type": "code",
      "source": [
        "def func(a=2):\n",
        "    print(a * a)\n",
        "\n",
        "func(3)\n",
        "func()"
      ],
      "metadata": {
        "colab": {
          "base_uri": "https://localhost:8080/"
        },
        "id": "7oyaemvV30oi",
        "outputId": "5272c1b8-859b-4023-a05a-d52272ea4c95"
      },
      "execution_count": null,
      "outputs": [
        {
          "output_type": "stream",
          "name": "stdout",
          "text": [
            "9\n",
            "4\n"
          ]
        }
      ]
    },
    {
      "cell_type": "code",
      "source": [
        "def func(*argv):\n",
        "    return sum(argv[0:2]), sum(argv[2:4])"
      ],
      "metadata": {
        "id": "6SBU3IOfMTuR"
      },
      "execution_count": null,
      "outputs": []
    },
    {
      "cell_type": "code",
      "source": [
        "sum1, sum2 = func(2, 3, 4, 5)\n",
        "sum1, sum2"
      ],
      "metadata": {
        "colab": {
          "base_uri": "https://localhost:8080/"
        },
        "id": "V4SvL-9GM3dS",
        "outputId": "6f3d4085-2d94-41bb-a45f-acdd2b6722bf"
      },
      "execution_count": null,
      "outputs": [
        {
          "output_type": "execute_result",
          "data": {
            "text/plain": [
              "(5, 9)"
            ]
          },
          "metadata": {},
          "execution_count": 8
        }
      ]
    },
    {
      "cell_type": "markdown",
      "source": [
        "Οι συναρτήσεις μπορούν να έχουν οποιοδήποτε αριθμό εξόδων."
      ],
      "metadata": {
        "id": "nSrwpf883jRo"
      }
    },
    {
      "cell_type": "code",
      "source": [
        "def func(*argv):\n",
        "    return sum(argv[0:2]), sum(argv[2:4])\n",
        "\n",
        "sum1, sum2 = func(2, 3, 4, 5)\n",
        "sum1, sum2\n",
        "\n"
      ],
      "metadata": {
        "colab": {
          "base_uri": "https://localhost:8080/"
        },
        "id": "KE4NXeY4NDI5",
        "outputId": "f207791b-3093-42a5-aa12-49f96e82ac54"
      },
      "execution_count": null,
      "outputs": [
        {
          "output_type": "stream",
          "name": "stdout",
          "text": [
            "0\n",
            "1\n",
            "4\n",
            "9\n"
          ]
        }
      ]
    },
    {
      "cell_type": "code",
      "source": [
        "def squares(limit):\n",
        "    r = 0\n",
        "    ret = []\n",
        "    \n",
        "    while r < limit:\n",
        "        ret.append(r**2)\n",
        "        r += 1\n",
        "    \n",
        "    return ret\n",
        "\n",
        "\n",
        "for i in squares(4):\n",
        "    print(i)"
      ],
      "metadata": {
        "colab": {
          "base_uri": "https://localhost:8080/"
        },
        "id": "1-aVFDJ4NSeh",
        "outputId": "8d0770a4-0a3f-4712-ff56-6dc805c5c999"
      },
      "execution_count": null,
      "outputs": [
        {
          "output_type": "stream",
          "name": "stdout",
          "text": [
            "0\n",
            "1\n",
            "4\n",
            "9\n"
          ]
        }
      ]
    },
    {
      "cell_type": "markdown",
      "source": [
        "Οι συναρτήσεις μπορούν να μεταβιβαστούν ως ορίσματα σε άλλες συναρτήσεις"
      ],
      "metadata": {
        "id": "MJW64OE6NpHC"
      }
    },
    {
      "cell_type": "code",
      "source": [
        "def greet(name):\n",
        "    return \"Hello \" + name \n",
        "\n",
        "def call_func(func):\n",
        "    other_name = \"John\"\n",
        "    return func(other_name)  \n",
        "\n",
        "call_func(greet)"
      ],
      "metadata": {
        "colab": {
          "base_uri": "https://localhost:8080/",
          "height": 35
        },
        "id": "miFzAhP3NlqB",
        "outputId": "e5f98122-241a-4155-b2ac-129a228e6955"
      },
      "execution_count": null,
      "outputs": [
        {
          "output_type": "execute_result",
          "data": {
            "text/plain": [
              "'Hello John'"
            ],
            "application/vnd.google.colaboratory.intrinsic+json": {
              "type": "string"
            }
          },
          "metadata": {},
          "execution_count": 11
        }
      ]
    },
    {
      "cell_type": "markdown",
      "source": [
        "Οι συναρτήσεις μπορούν να επιστρέψουν άλλες συναρτήσεις"
      ],
      "metadata": {
        "id": "RzxBMuYjNxDb"
      }
    },
    {
      "cell_type": "code",
      "source": [
        "def compose_greet_func():\n",
        "    def get_message():\n",
        "        return \"Hello there!\"\n",
        "\n",
        "    return get_message\n",
        "\n",
        "greet = compose_greet_func()\n",
        "greet()"
      ],
      "metadata": {
        "id": "RNWauZ8VNxWC"
      },
      "execution_count": null,
      "outputs": []
    },
    {
      "cell_type": "markdown",
      "source": [
        "#### Classes\n",
        "Ορίζονται ως εξής:"
      ],
      "metadata": {
        "id": "0ePYFzOwOTBt"
      }
    },
    {
      "cell_type": "code",
      "source": [
        "class TestClass(object): # TestClass inherits from object.\n",
        "    myvar = \"\"\n",
        "     \n",
        "    def __init__(self, myString): # optional constructor, returns nothing\n",
        "        self.myvar = myString # 'self' is used to store instance properties\n",
        "    \n",
        "    def say(self, what): # you need to add self as the first argument \n",
        "        return self.myvar + str(what)\n",
        "\n",
        "a = TestClass(\"The new answer is \")\n",
        "a.myvar # You can retrieve all properties of self\n",
        "a.say(42)"
      ],
      "metadata": {
        "colab": {
          "base_uri": "https://localhost:8080/",
          "height": 35
        },
        "id": "wXMSzZPwOTLb",
        "outputId": "aa6def09-79eb-4b7d-d6d5-e0afcb995433"
      },
      "execution_count": null,
      "outputs": [
        {
          "output_type": "execute_result",
          "data": {
            "text/plain": [
              "'The new answer is 42'"
            ],
            "application/vnd.google.colaboratory.intrinsic+json": {
              "type": "string"
            }
          },
          "metadata": {},
          "execution_count": 12
        }
      ]
    },
    {
      "cell_type": "markdown",
      "metadata": {
        "id": "W4yFfEYOwvYb"
      },
      "source": [
        "### Άσκηση \n",
        "Εκτυπώστε τα τετράγωνα των ζυγών αριθμών μεταξύ 0 και 15\n",
        "1. χρησιμοποιώντας list comprehension, όπως πριν\n",
        "2. χρησιμοποιώντας το `map`\n",
        "\n"
      ]
    },
    {
      "cell_type": "code",
      "metadata": {
        "ExecuteTime": {
          "end_time": "2020-09-03T08:37:33.628809Z",
          "start_time": "2020-09-03T08:37:33.625482Z"
        },
        "scrolled": false,
        "id": "3DxAmlrMwvYb"
      },
      "source": [
        "# Answer to 1.\n",
        "[i ** 2 for i in range(15) if i % 2 == 0]"
      ],
      "execution_count": null,
      "outputs": []
    },
    {
      "cell_type": "code",
      "metadata": {
        "ExecuteTime": {
          "end_time": "2020-09-03T08:37:33.633597Z",
          "start_time": "2020-09-03T08:37:33.630241Z"
        },
        "scrolled": false,
        "id": "9jB2h9s8wvYd"
      },
      "source": [
        "# Answer to 2. \n",
        "list(map(lambda x: x ** 2, range(0, 15, 2)))"
      ],
      "execution_count": null,
      "outputs": []
    },
    {
      "cell_type": "markdown",
      "metadata": {
        "id": "UxrO9TUswvYe"
      },
      "source": [
        "**Παρατήρηση**. Θα δούμε αργότερα γιατί πρέπει να χρησιμοποιήσουμε τη `list` παραπάνω"
      ]
    },
    {
      "cell_type": "code",
      "metadata": {
        "ExecuteTime": {
          "end_time": "2020-09-03T08:37:33.638055Z",
          "start_time": "2020-09-03T08:37:33.634960Z"
        },
        "id": "cX0-x6ZTwvYe"
      },
      "source": [
        "map(lambda x: x ** 2, range(0, 15, 2))"
      ],
      "execution_count": null,
      "outputs": []
    },
    {
      "cell_type": "markdown",
      "metadata": {
        "id": "0oOKiYjAwvYf"
      },
      "source": [
        "Για να πάρουμε το άθροισμα αυτών των τετραγώνων, μπορούμε να χρησιμοποιήσουμε το άθροισμα"
      ]
    },
    {
      "cell_type": "code",
      "metadata": {
        "ExecuteTime": {
          "end_time": "2020-09-03T08:37:33.642796Z",
          "start_time": "2020-09-03T08:37:33.639474Z"
        },
        "scrolled": true,
        "id": "WtjFyvBawvYf"
      },
      "source": [
        "sum(map(lambda x: x ** 2, range(0, 15, 2)))"
      ],
      "execution_count": null,
      "outputs": []
    },
    {
      "cell_type": "markdown",
      "metadata": {
        "id": "O7saogsvwvYh"
      },
      "source": [
        "Μπορούμε επίσης να χρησιμοποιήσουμε το \"reduce\" (δεν είναι καλή ιδέα εδώ, αλλά είναι καλό να γνωρίζουμε ότι υπάρχει)"
      ]
    },
    {
      "cell_type": "code",
      "metadata": {
        "ExecuteTime": {
          "end_time": "2020-09-03T08:37:33.647648Z",
          "start_time": "2020-09-03T08:37:33.644175Z"
        },
        "scrolled": false,
        "id": "ZcFmpZKTwvYh"
      },
      "source": [
        "from functools import reduce\n",
        "\n",
        "reduce(lambda a, b: a + b, map(lambda x: x ** 2, range(0, 15, 2)))"
      ],
      "execution_count": null,
      "outputs": []
    },
    {
      "cell_type": "markdown",
      "metadata": {
        "id": "CzY6MKoIwvYi"
      },
      "source": [
        "Υπάρχει επίσης κάτι που μπορεί να είναι χρήσιμο στο `functool` που ονομάζεται `partial`. \n",
        "\n",
        "Επιτρέπει την **απλοποίηση** συναρτήσεων παγώνοντας ορισμένα ορίσματα\n"
      ]
    },
    {
      "cell_type": "code",
      "metadata": {
        "ExecuteTime": {
          "end_time": "2020-09-03T08:37:33.652572Z",
          "start_time": "2020-09-03T08:37:33.649061Z"
        },
        "id": "qLDdgMepwvYi"
      },
      "source": [
        "from functools import partial\n",
        "\n",
        "def mult(a, b):\n",
        "    return a * b\n",
        "\n",
        "double = partial(mult, b=2)\n",
        "double(2) "
      ],
      "execution_count": null,
      "outputs": []
    }
  ]
}